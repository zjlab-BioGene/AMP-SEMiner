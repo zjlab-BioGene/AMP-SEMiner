{
 "cells": [
  {
   "cell_type": "markdown",
   "metadata": {},
   "source": [
    "## Predicted AMPs data process\n",
    "\n",
    "| Step | Description | # of Proteins | # of AMPs |\n",
    "| - | - | - | - |\n",
    "| 1. | Combine all predicted-AMPs. | 5,641,747 pro. | 5,764,503 seg. |\n",
    "| 2. | Protein sequence clustering (cd-hit 0.9-0.8). | - | - |\n",
    "| 3. | Get cluster-IDs of protein-level and AMP-level. | 466,894 clst. | 458,371 clst. |\n",
    "| 4. | Get eggnog-mapper annotation. | - | - | \n",
    "| 5. | Statistics on AMP- & Pro- clusters. | 183,337 clst. | 94,148 clst. |"
   ]
  },
  {
   "cell_type": "code",
   "execution_count": 1,
   "metadata": {},
   "outputs": [],
   "source": [
    "import os, re\n",
    "import pandas as pd\n",
    "import numpy as np\n",
    "from scipy import stats\n",
    "pd.set_option(\"display.max_columns\", None)"
   ]
  },
  {
   "cell_type": "markdown",
   "metadata": {},
   "source": [
    "#### Step 1, Combine all predicted-AMPs"
   ]
  },
  {
   "cell_type": "code",
   "execution_count": null,
   "metadata": {},
   "outputs": [],
   "source": [
    "### cat input.pred_list.txt\n",
    "\"\"\"\n",
    "predictions/ancient_human_gut/pred.csv\n",
    "predictions/BGI_human_oral/pred.csv\n",
    "predictions/data_CGMR/pred.csv\n",
    "predictions/data_Hadza/Hadza.Bact.pred\n",
    "predictions/data_Hadza/Hadza.Phage.pred\n",
    "predictions/MGnify_cow_rumen/pred.csv\n",
    "predictions/MGnify_fish_gut/MGnify_fish_gut.pred.tsv\n",
    "predictions/MGnify_human_gut/pred.csv\n",
    "predictions/MGnify_human_oral/pred.csv\n",
    "predictions/MGnify_pig_gut/pred.csv\n",
    "predictions/MGnify_zibrafish_fecal/MGnify_zibrafish_fecal.pred.tsv\n",
    "\"\"\"\n",
    "\n",
    "data = pd.DataFrame(columns=['Source','ProID', 'AMP', 'AMPlen', 'Position', 'Sequence'])\n",
    "\n",
    "with open('input.pred_list.txt') as lst:\n",
    "    for f in lst.readlines():\n",
    "        source = f.strip().split('/')[1]\n",
    "        df = pd.read_csv(f.strip(), sep='\\t')\n",
    "        df['Source'] = source\n",
    "        data = pd.concat([data,df], ignore_index=True)\n",
    "\n",
    "data = data[data.ProID!='ProID'] \n",
    "data['AMPlen'] = data.AMPlen.astype('int').tolist()\n",
    "data = data[data.AMPlen>=5]\n",
    "data['ID'] = data['Source'] + '_' + data['ProID']"
   ]
  },
  {
   "cell_type": "code",
   "execution_count": 64,
   "metadata": {},
   "outputs": [
    {
     "name": "stdout",
     "output_type": "stream",
     "text": [
      "(5764503, 7)\n"
     ]
    },
    {
     "data": {
      "text/html": [
       "<div>\n",
       "<style scoped>\n",
       "    .dataframe tbody tr th:only-of-type {\n",
       "        vertical-align: middle;\n",
       "    }\n",
       "\n",
       "    .dataframe tbody tr th {\n",
       "        vertical-align: top;\n",
       "    }\n",
       "\n",
       "    .dataframe thead th {\n",
       "        text-align: right;\n",
       "    }\n",
       "</style>\n",
       "<table border=\"1\" class=\"dataframe\">\n",
       "  <thead>\n",
       "    <tr style=\"text-align: right;\">\n",
       "      <th></th>\n",
       "      <th>Source</th>\n",
       "      <th>ProID</th>\n",
       "      <th>AMP</th>\n",
       "      <th>AMPlen</th>\n",
       "      <th>Position</th>\n",
       "      <th>Sequence</th>\n",
       "      <th>ID</th>\n",
       "    </tr>\n",
       "  </thead>\n",
       "  <tbody>\n",
       "    <tr>\n",
       "      <th>0</th>\n",
       "      <td>ancient_human_gut</td>\n",
       "      <td>AZ107.k141_184032_5</td>\n",
       "      <td>FRRKKW</td>\n",
       "      <td>6</td>\n",
       "      <td>276,281</td>\n",
       "      <td>MQLVLPFEHMAKAAQYMEPSVFEYVREGEIESFESFEKFDFLAFDW...</td>\n",
       "      <td>ancient_human_gut_AZ107.k141_184032_5</td>\n",
       "    </tr>\n",
       "    <tr>\n",
       "      <th>1</th>\n",
       "      <td>ancient_human_gut</td>\n",
       "      <td>AZ107.k141_604685_1</td>\n",
       "      <td>VVGVVSRVTNK</td>\n",
       "      <td>11</td>\n",
       "      <td>15,25</td>\n",
       "      <td>MGLNLLLAGLAVLLVVVGVVSRVTNK</td>\n",
       "      <td>ancient_human_gut_AZ107.k141_604685_1</td>\n",
       "    </tr>\n",
       "    <tr>\n",
       "      <th>2</th>\n",
       "      <td>ancient_human_gut</td>\n",
       "      <td>AZ107.k141_630992_1</td>\n",
       "      <td>KKLADAVKGFLDKIFNKK</td>\n",
       "      <td>18</td>\n",
       "      <td>46,63</td>\n",
       "      <td>MKTSLKRIIAFVLVLALSFAAFATVVSAAPVSASAKTESASIGSFF...</td>\n",
       "      <td>ancient_human_gut_AZ107.k141_630992_1</td>\n",
       "    </tr>\n",
       "    <tr>\n",
       "      <th>3</th>\n",
       "      <td>ancient_human_gut</td>\n",
       "      <td>AZ107.k141_368093_2</td>\n",
       "      <td>KKFGKAAN</td>\n",
       "      <td>8</td>\n",
       "      <td>221,228</td>\n",
       "      <td>MHLMSNSKHKTGRKPLKLGTVENYHHHWYLLIWLVYLTLFAIAEHV...</td>\n",
       "      <td>ancient_human_gut_AZ107.k141_368093_2</td>\n",
       "    </tr>\n",
       "    <tr>\n",
       "      <th>4</th>\n",
       "      <td>ancient_human_gut</td>\n",
       "      <td>AZ107.k141_473258_2</td>\n",
       "      <td>YIWKIIK</td>\n",
       "      <td>7</td>\n",
       "      <td>23,29</td>\n",
       "      <td>MGNKDKNIRLTFYVVCGLLLGAPYIWKIIKLIPELLKTLPNAAEIL...</td>\n",
       "      <td>ancient_human_gut_AZ107.k141_473258_2</td>\n",
       "    </tr>\n",
       "  </tbody>\n",
       "</table>\n",
       "</div>"
      ],
      "text/plain": [
       "              Source                ProID                 AMP  AMPlen  \\\n",
       "0  ancient_human_gut  AZ107.k141_184032_5              FRRKKW       6   \n",
       "1  ancient_human_gut  AZ107.k141_604685_1         VVGVVSRVTNK      11   \n",
       "2  ancient_human_gut  AZ107.k141_630992_1  KKLADAVKGFLDKIFNKK      18   \n",
       "3  ancient_human_gut  AZ107.k141_368093_2            KKFGKAAN       8   \n",
       "4  ancient_human_gut  AZ107.k141_473258_2             YIWKIIK       7   \n",
       "\n",
       "  Position                                           Sequence  \\\n",
       "0  276,281  MQLVLPFEHMAKAAQYMEPSVFEYVREGEIESFESFEKFDFLAFDW...   \n",
       "1    15,25                         MGLNLLLAGLAVLLVVVGVVSRVTNK   \n",
       "2    46,63  MKTSLKRIIAFVLVLALSFAAFATVVSAAPVSASAKTESASIGSFF...   \n",
       "3  221,228  MHLMSNSKHKTGRKPLKLGTVENYHHHWYLLIWLVYLTLFAIAEHV...   \n",
       "4    23,29  MGNKDKNIRLTFYVVCGLLLGAPYIWKIIKLIPELLKTLPNAAEIL...   \n",
       "\n",
       "                                      ID  \n",
       "0  ancient_human_gut_AZ107.k141_184032_5  \n",
       "1  ancient_human_gut_AZ107.k141_604685_1  \n",
       "2  ancient_human_gut_AZ107.k141_630992_1  \n",
       "3  ancient_human_gut_AZ107.k141_368093_2  \n",
       "4  ancient_human_gut_AZ107.k141_473258_2  "
      ]
     },
     "execution_count": 64,
     "metadata": {},
     "output_type": "execute_result"
    }
   ],
   "source": [
    "print(data.shape)\n",
    "data.head()"
   ]
  },
  {
   "cell_type": "markdown",
   "metadata": {},
   "source": [
    "#### Step 2, Protein & AMPs sequence clustering (cd-hit 0.9-0.8)\n",
    "\n",
    "output_path = 'Analysis/cdhit' & 'Analysis/amp_cdhit'"
   ]
  },
  {
   "cell_type": "code",
   "execution_count": null,
   "metadata": {},
   "outputs": [],
   "source": [
    "## output all AMP-contained proteins as .faa\n",
    "data_dict = dict( zip(data.ID.tolist(), data.Sequence.tolist()) )\n",
    "with open('all_amp_protein.animal.faa', 'w') as f:\n",
    "    for name,seq in data_dict.items():\n",
    "        f.write('>%s\\n%s\\n' % (name,seq))\n",
    "\n",
    "## output AMP-contained proteins with length no greater than 10 as short.faa\n",
    "with open('Analysis/all_amp_protein.animal.short.faa', 'w') as f:\n",
    "    for name,seq in data_dict.items():\n",
    "        if len(seq) <= 10:\n",
    "            f.write('>%s\\n%s\\n' % (name,seq))"
   ]
  },
  {
   "cell_type": "markdown",
   "metadata": {},
   "source": [
    "##### Run cd-hit on protein sequence (0.9-0.8)\n",
    "\n",
    "cd-hit -i ../all_amp_protein.animal.faa -o pro90 -c 0.9 -n 5 -d 0 -M 4500\n",
    "\n",
    "clstr_sort_by.pl < pro90.clstr no > pro90.sorted.clstr\n",
    "\n",
    "bioawk -cfastx '{print $name,$seq}' pro90 > pro90.tab\n",
    "\n",
    "\n",
    "cd-hit -i ./pro90 -o pro80 -c 0.8 -n 5 -d 0 -M 4500\n",
    "\n",
    "clstr_sort_by.pl < pro80.clstr no > pro80.sorted.clstr\n",
    "\n",
    "bioawk -cfastx '{print $name,$seq}' pro80 > pro80.tab\n",
    "\n",
    "##### Run cd-hit on short protein sequence (0.9-0.8)\n",
    "\n",
    "cd-hit -i ../all_amp_protein.animal.short.faa -o pro90.short -c 0.9 -n 2 -d 0 -l 4\n",
    "\n",
    "clstr_sort_by.pl < pro90.short.clstr no > pro90.short.sorted.clstr\n",
    "\n",
    "bioawk -cfastx '{print $name,$seq}' pro90.short > pro90.short.tab\n",
    "\n",
    "\n",
    "cd-hit -i ./pro90.short -o pro80.short -c 0.8 -n 2 -d 0 -l 4\n",
    "\n",
    "clstr_sort_by.pl < pro80.short.clstr no > pro80.short.sorted.clstr\n",
    "\n",
    "bioawk -cfastx '{print $name,$seq}' pro80.short > pro80.short.tab"
   ]
  },
  {
   "cell_type": "code",
   "execution_count": 68,
   "metadata": {},
   "outputs": [],
   "source": [
    "## output all predicted-AMPs as .faa\n",
    "def df2faa(df, outfaa):\n",
    "    ids = df['AMPID'].tolist()\n",
    "    seqs = df['AMP'].tolist()\n",
    "    with open(outfaa, 'w') as ofa:\n",
    "        for i in range(len(ids)):\n",
    "            ofa.write('>%s\\n%s\\n' % (ids[i], seqs[i]))\n",
    "\n",
    "data['AMPID'] = data['ID'] + ':' + data['Position']\n",
    "data_long = data[data.AMPlen>10]\n",
    "data_short = data[data.AMPlen<=10]\n",
    "\n",
    "df2faa(data_long, 'Analysis/amp_cdhit/AMPs.faa')\n",
    "df2faa(data_short, 'Analysis/amp_cdhit/AMPs.short.faa')"
   ]
  },
  {
   "cell_type": "markdown",
   "metadata": {},
   "source": [
    "##### Run cd-hit on AMP sequence (0.95)\n",
    "\n",
    "cd-hit -i AMPs.faa -o amp95 -c 0.95 -n 5 -d 0\n",
    "\n",
    "clstr_sort_by.pl < amp95.clstr no > amp95.sorted.clstr\n",
    "\n",
    "##### Run cd-hit on short AMP sequence (0.95)\n",
    "cd-hit -i AMPs.short.faa -o amp95.short -c 0.95 -n 2 -d 0 -l 4 -M 20000\n",
    "\n",
    "clstr_sort_by.pl < amp95.short.clstr no > amp95.short.sorted.clstr"
   ]
  },
  {
   "cell_type": "markdown",
   "metadata": {},
   "source": [
    "#### Step 3, Get cluster-IDs of protein-level and AMP-level"
   ]
  },
  {
   "cell_type": "code",
   "execution_count": 2,
   "metadata": {},
   "outputs": [],
   "source": [
    "## function to process cd-hit sorted-clstering results\n",
    "\n",
    "def get_cluster_id(sorted_clstr,start_clst=0):\n",
    "    # clst_id = {}\n",
    "    pro_cid = {}\n",
    "    clst_rep = {}\n",
    "    cid = 0\n",
    "    with open(sorted_clstr) as infile:\n",
    "        for line in infile.readlines():\n",
    "            line = line.strip()\n",
    "            if line:\n",
    "                if line.startswith('>'):\n",
    "                    cid = int(line.split()[1]) + start_clst\n",
    "                    # clst_id[cid] = {}\n",
    "                else:\n",
    "                    alst = line.split()\n",
    "                    pid = re.sub('^>','',alst[2])\n",
    "                    pid = re.sub('...$','',pid)\n",
    "                    if alst[3] == \"*\":\n",
    "                        # v = 2.\n",
    "                        clst_rep[cid] = pid\n",
    "                    # else:\n",
    "                        # v = float(re.sub('%','',alst[-1]))/100\n",
    "                    # clst_id[cid][pid] = v\n",
    "                    pro_cid[pid] = cid\n",
    "                    \n",
    "    # return pro_cid,clst_id,clst_rep\n",
    "    return pro_cid, clst_rep"
   ]
  },
  {
   "cell_type": "code",
   "execution_count": 4,
   "metadata": {},
   "outputs": [],
   "source": [
    "## process protein clusters\n",
    "pro_cid_90,clst_rep_90 = get_cluster_id('Analysis/cdhit/pro90.sorted.clstr')\n",
    "pro_cid_80,clst_rep_80 = get_cluster_id('Analysis/cdhit/pro80.sorted.clstr') \n",
    "\n",
    "s_pro_cid_90,s_clst_rep_90 = get_cluster_id('Analysis/cdhit/pro90.short.sorted.clstr', start_clst=max(clst_rep_90.keys()))\n",
    "s_pro_cid_80,s_clst_rep_80 = get_cluster_id('Analysis/cdhit/pro80.short.sorted.clstr', start_clst=max(clst_rep_80.keys()))                        \n",
    "\n",
    "pro_cid_90 = pro_cid_90 | s_pro_cid_90\n",
    "clst_rep_90 = clst_rep_90 | s_clst_rep_90\n",
    "pro_cid_80 = pro_cid_80 | s_pro_cid_80\n",
    "clst_rep_80 = clst_rep_80 | s_clst_rep_80\n",
    "\n",
    "data['Pro_clst'] = [ pro_cid_90[x] if x in pro_cid_90.keys() else -1 for x in data.ID.tolist() ]\n",
    "data['Pro_clst_rep'] = [ clst_rep_90[x] if x in clst_rep_90.keys() else 'NoData' for x in data.Pro_clst.tolist() ]\n",
    "data['Pro_clst80'] = [ pro_cid_80[x] if x in pro_cid_80.keys() else -1 for x in data['Pro_clst_rep'].tolist() ]\n",
    "data['Pro_clst80_rep'] = [ clst_rep_80[x] if x in clst_rep_80.keys() else 'NoData' for x in data['Pro_clst80'].tolist() ]\n",
    "\n",
    "data.sort_values(by=['AMP_clst','Pro_clst80','Pro_clst']).to_csv('rmdup.animal.clst90_80.AMPclst95.eggnog2.txt',sep='\\t',index=False)"
   ]
  },
  {
   "cell_type": "code",
   "execution_count": 69,
   "metadata": {},
   "outputs": [],
   "source": [
    "## process amp clusters\n",
    "amp_cid_95,aclst_rep_95 = get_cluster_id('Analysis/amp_cdhit/amp95.sorted.clstr')\n",
    "s_amp_cid_95,s_aclst_rep_95 = get_cluster_id('Analysis/amp_cdhit/amp95.short.sorted.clstr', start_clst=max(aclst_rep_95.keys()))\n",
    "\n",
    "amp_cid_95 = amp_cid_95 | s_amp_cid_95\n",
    "\n",
    "data['AMP_clst'] = [ amp_cid_95[x] if x in amp_cid_95.keys() else -1 for x in data.AMPID.tolist() ]"
   ]
  },
  {
   "cell_type": "markdown",
   "metadata": {},
   "source": [
    "#### Step 4, Get eggnog-mapper annotation\n",
    "\n",
    "output = 'all_amp_protein.animal.clst90_80.AMP_clst95.eggnog.txt'"
   ]
  },
  {
   "cell_type": "code",
   "execution_count": 70,
   "metadata": {},
   "outputs": [
    {
     "name": "stdout",
     "output_type": "stream",
     "text": [
      "Before removing X sequence:\n",
      "(5764503, 12)\n",
      "After removing X sequence:\n",
      "(5762475, 12)\n"
     ]
    }
   ],
   "source": [
    "def rm_X_pro(df):\n",
    "    df['X_flag'] = [ 1 if not 'X' in x else 0 for x in df['Sequence'].tolist() ]\n",
    "    df = df[df.X_flag==1]\n",
    "    del df['X_flag']\n",
    "    return df\n",
    "\n",
    "print('Before removing X sequence:')\n",
    "print(data.shape)\n",
    "\n",
    "data = rm_X_pro(data)\n",
    "print('After removing X sequence:')\n",
    "print(data.shape)"
   ]
  },
  {
   "cell_type": "code",
   "execution_count": 71,
   "metadata": {},
   "outputs": [],
   "source": [
    "egg = pd.read_csv('eggnogMapper_fg/eggnog_mapper.txt',sep='\\t')\n",
    "egg = egg.drop_duplicates()"
   ]
  },
  {
   "cell_type": "code",
   "execution_count": null,
   "metadata": {},
   "outputs": [],
   "source": [
    "data2egg = pd.merge(data, egg, left_on='Pro_clst_rep', right_on='query', how='left')\n",
    "data2egg['seed_ortholog'].fillna('NoData',inplace=True)\n",
    "data2egg.fillna('-',inplace=True)\n",
    "del data2egg['query']\n",
    "\n",
    "data2egg.to_csv('all_amp_protein.animal.clst90_80.AMPclst95.eggnog.txt',sep='\\t',index=False)"
   ]
  },
  {
   "cell_type": "code",
   "execution_count": 48,
   "metadata": {},
   "outputs": [
    {
     "name": "stdout",
     "output_type": "stream",
     "text": [
      "After removing duplicates:\n",
      "(1522945, 32)\n"
     ]
    }
   ],
   "source": [
    "data2egg_rmdup = data2egg.drop_duplicates(subset=['Source','Sequence','AMP','Position'])\n",
    "print('After removing duplicates:')\n",
    "print(data2egg_rmdup.shape)\n",
    "data2egg_rmdup.to_csv('rmdup.animal.clst90_80.AMPclst95.eggnog.txt',sep='\\t',index=False)"
   ]
  },
  {
   "cell_type": "markdown",
   "metadata": {},
   "source": [
    "#### Step 5, Statistics on AMP- & Pro- clusters\n",
    "\n",
    "| Output | Description |\n",
    "| - | - |\n",
    "| 'rmdup.animal.clst90_80.AMPclst95.eggnog.filtered.txt' | All filtered AMPs & Proteins |\n",
    "| 'rmdup.animal.clst90_80.AMPclst95.eggnog.filtered.amp_repr_stat.txt' | Statistics on AMP-clusters |\n",
    "| 'rmdup.animal.clst90_80.AMPclst95.eggnog.filtered.repr_stat.txt' | Staticstics on Protein-clusters |"
   ]
  },
  {
   "cell_type": "code",
   "execution_count": 49,
   "metadata": {},
   "outputs": [],
   "source": [
    "pro_path = 'Clustering80_rmdup/Protein'\n",
    "amp_path = 'Clustering80_rmdup/AMPfragment'"
   ]
  },
  {
   "cell_type": "code",
   "execution_count": 50,
   "metadata": {},
   "outputs": [],
   "source": [
    "def calc_source_count(df):\n",
    "    _dict = df['Source'].value_counts().to_dict()\n",
    "    total = sum(_dict.values())\n",
    "    ## AMP counts (after duplicates-removed)\n",
    "    orals = ['MGnify_human_oral','BGI_human_oral']\n",
    "    animals = ['MGnify_cow_rumen', 'MGnify_pig_gut', 'MGnify_zibrafish_fecal','MGnify_fish_gut']\n",
    "    human_gut_total = 0\n",
    "    modern_human_gut = 0\n",
    "    ancient_human_gut = 0\n",
    "    oral_counts = 0\n",
    "    animal_counts = 0\n",
    "    \n",
    "    for g in ['data_CGMR','MGnify_human_gut']:\n",
    "        if g in _dict.keys():\n",
    "            human_gut_total += _dict[g]\n",
    "            modern_human_gut += _dict[g]\n",
    "    \n",
    "    for g in ['data_Hadza','ancient_human_gut']:\n",
    "        if g in _dict.keys():\n",
    "            human_gut_total += _dict[g]\n",
    "            ancient_human_gut += _dict[g]\n",
    "    \n",
    "    for o in orals:\n",
    "        for o in _dict.keys():\n",
    "            oral_counts += _dict[o]\n",
    "    \n",
    "    for a in animals:\n",
    "        for a in _dict.keys():\n",
    "            animal_counts += _dict[a]\n",
    "    \n",
    "    return total, human_gut_total, modern_human_gut, ancient_human_gut, oral_counts, animal_counts\n",
    "\n",
    "def output_clusters(clstr_id, df, pro_path, amp_path):\n",
    "    ids = df['ID'].tolist()\n",
    "    seqs = df['Sequence'].tolist()\n",
    "    amps = df['AMP'].tolist()\n",
    "\n",
    "    with open(os.path.join(pro_path, clstr_id+'.faa'), 'w') as pout:\n",
    "        with open(os.path.join(amp_path, clstr_id+'.faa'), 'w') as aout:\n",
    "            for i in range(len(ids)):\n",
    "                pout.write('>%s\\n%s\\n' % (ids[i],seqs[i]))\n",
    "                aout.write('>%s\\n%s\\n' % (ids[i],amps[i]))"
   ]
  }
 ],
 "metadata": {
  "kernelspec": {
   "display_name": "gnn",
   "language": "python",
   "name": "python3"
  },
  "language_info": {
   "codemirror_mode": {
    "name": "ipython",
    "version": 3
   },
   "file_extension": ".py",
   "mimetype": "text/x-python",
   "name": "python",
   "nbconvert_exporter": "python",
   "pygments_lexer": "ipython3",
   "version": "3.10.13"
  }
 },
 "nbformat": 4,
 "nbformat_minor": 2
}
