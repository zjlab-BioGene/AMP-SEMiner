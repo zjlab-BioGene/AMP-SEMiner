{
 "cells": [
  {
   "cell_type": "code",
   "execution_count": 2,
   "metadata": {},
   "outputs": [],
   "source": [
    "import os, re\n",
    "import pandas as pd\n",
    "import plotly.graph_objects as go\n",
    "import urllib, json\n",
    "\n",
    "## https://plotly.com/python/sankey-diagram/"
   ]
  },
  {
   "cell_type": "code",
   "execution_count": null,
   "metadata": {},
   "outputs": [
    {
     "data": {
      "text/html": [
       "<div>\n",
       "<style scoped>\n",
       "    .dataframe tbody tr th:only-of-type {\n",
       "        vertical-align: middle;\n",
       "    }\n",
       "\n",
       "    .dataframe tbody tr th {\n",
       "        vertical-align: top;\n",
       "    }\n",
       "\n",
       "    .dataframe thead th {\n",
       "        text-align: right;\n",
       "    }\n",
       "</style>\n",
       "<table border=\"1\" class=\"dataframe\">\n",
       "  <thead>\n",
       "    <tr style=\"text-align: right;\">\n",
       "      <th></th>\n",
       "      <th>Source</th>\n",
       "      <th>ProID</th>\n",
       "      <th>AMP</th>\n",
       "      <th>AMPlen</th>\n",
       "      <th>Position</th>\n",
       "      <th>Sequence</th>\n",
       "    </tr>\n",
       "  </thead>\n",
       "  <tbody>\n",
       "    <tr>\n",
       "      <th>0</th>\n",
       "      <td>ancient_human_gut</td>\n",
       "      <td>AZ107.k141_184032_5</td>\n",
       "      <td>FRRKKW</td>\n",
       "      <td>6</td>\n",
       "      <td>276,281</td>\n",
       "      <td>MQLVLPFEHMAKAAQYMEPSVFEYVREGEIESFESFEKFDFLAFDW...</td>\n",
       "    </tr>\n",
       "    <tr>\n",
       "      <th>1</th>\n",
       "      <td>ancient_human_gut</td>\n",
       "      <td>AZ107.k141_604685_1</td>\n",
       "      <td>VVGVVSRVTNK</td>\n",
       "      <td>11</td>\n",
       "      <td>15,25</td>\n",
       "      <td>MGLNLLLAGLAVLLVVVGVVSRVTNK</td>\n",
       "    </tr>\n",
       "    <tr>\n",
       "      <th>2</th>\n",
       "      <td>ancient_human_gut</td>\n",
       "      <td>AZ107.k141_630992_1</td>\n",
       "      <td>KKLADAVKGFLDKIFNKK</td>\n",
       "      <td>18</td>\n",
       "      <td>46,63</td>\n",
       "      <td>MKTSLKRIIAFVLVLALSFAAFATVVSAAPVSASAKTESASIGSFF...</td>\n",
       "    </tr>\n",
       "    <tr>\n",
       "      <th>3</th>\n",
       "      <td>ancient_human_gut</td>\n",
       "      <td>AZ107.k141_368093_2</td>\n",
       "      <td>KKFGKAAN</td>\n",
       "      <td>8</td>\n",
       "      <td>221,228</td>\n",
       "      <td>MHLMSNSKHKTGRKPLKLGTVENYHHHWYLLIWLVYLTLFAIAEHV...</td>\n",
       "    </tr>\n",
       "    <tr>\n",
       "      <th>4</th>\n",
       "      <td>ancient_human_gut</td>\n",
       "      <td>AZ107.k141_473258_2</td>\n",
       "      <td>YIWKIIK</td>\n",
       "      <td>7</td>\n",
       "      <td>23,29</td>\n",
       "      <td>MGNKDKNIRLTFYVVCGLLLGAPYIWKIIKLIPELLKTLPNAAEIL...</td>\n",
       "    </tr>\n",
       "  </tbody>\n",
       "</table>\n",
       "</div>"
      ],
      "text/plain": [
       "              Source                ProID                 AMP  AMPlen  \\\n",
       "0  ancient_human_gut  AZ107.k141_184032_5              FRRKKW       6   \n",
       "1  ancient_human_gut  AZ107.k141_604685_1         VVGVVSRVTNK      11   \n",
       "2  ancient_human_gut  AZ107.k141_630992_1  KKLADAVKGFLDKIFNKK      18   \n",
       "3  ancient_human_gut  AZ107.k141_368093_2            KKFGKAAN       8   \n",
       "4  ancient_human_gut  AZ107.k141_473258_2             YIWKIIK       7   \n",
       "\n",
       "  Position                                           Sequence  \n",
       "0  276,281  MQLVLPFEHMAKAAQYMEPSVFEYVREGEIESFESFEKFDFLAFDW...  \n",
       "1    15,25                         MGLNLLLAGLAVLLVVVGVVSRVTNK  \n",
       "2    46,63  MKTSLKRIIAFVLVLALSFAAFATVVSAAPVSASAKTESASIGSFF...  \n",
       "3  221,228  MHLMSNSKHKTGRKPLKLGTVENYHHHWYLLIWLVYLTLFAIAEHV...  \n",
       "4    23,29  MGNKDKNIRLTFYVVCGLLLGAPYIWKIIKLIPELLKTLPNAAEIL...  "
      ]
     },
     "execution_count": 3,
     "metadata": {},
     "output_type": "execute_result"
    }
   ],
   "source": [
    "xdata = pd.read_csv('rmdup.animal.clst90_80.AMPclst95.eggnog.txt',sep='\\t')\n",
    "animal_data = xdata[ ['Source','ProID','AMP','AMPlen','Position','Sequence'] ]\n",
    "animal_data.head()"
   ]
  },
  {
   "cell_type": "code",
   "execution_count": null,
   "metadata": {},
   "outputs": [
    {
     "data": {
      "text/html": [
       "<div>\n",
       "<style scoped>\n",
       "    .dataframe tbody tr th:only-of-type {\n",
       "        vertical-align: middle;\n",
       "    }\n",
       "\n",
       "    .dataframe tbody tr th {\n",
       "        vertical-align: top;\n",
       "    }\n",
       "\n",
       "    .dataframe thead th {\n",
       "        text-align: right;\n",
       "    }\n",
       "</style>\n",
       "<table border=\"1\" class=\"dataframe\">\n",
       "  <thead>\n",
       "    <tr style=\"text-align: right;\">\n",
       "      <th></th>\n",
       "      <th>Source</th>\n",
       "      <th>ProID</th>\n",
       "      <th>AMP</th>\n",
       "      <th>AMPlen</th>\n",
       "      <th>Position</th>\n",
       "      <th>Sequence</th>\n",
       "    </tr>\n",
       "  </thead>\n",
       "  <tbody>\n",
       "    <tr>\n",
       "      <th>0</th>\n",
       "      <td>MGnify_marine</td>\n",
       "      <td>MGYG000296000@MGYG000296000_1_71</td>\n",
       "      <td>CLRRVQRKK</td>\n",
       "      <td>9</td>\n",
       "      <td>53,61</td>\n",
       "      <td>MKTSFARRSLKTVEWVWLVIAILSLETVFSQWNEDRQRAYMFIIFT...</td>\n",
       "    </tr>\n",
       "    <tr>\n",
       "      <th>1</th>\n",
       "      <td>MGnify_marine</td>\n",
       "      <td>MGYG000296000@MGYG000296000_1_88</td>\n",
       "      <td>LYKWIGHK</td>\n",
       "      <td>8</td>\n",
       "      <td>44,51</td>\n",
       "      <td>MAKFIGFLIALLIILTGFSMLLFLGLFVGYWLTLVGLEQFAPKMLY...</td>\n",
       "    </tr>\n",
       "    <tr>\n",
       "      <th>2</th>\n",
       "      <td>MGnify_marine</td>\n",
       "      <td>MGYG000296000@MGYG000296000_3_84</td>\n",
       "      <td>LIGLL</td>\n",
       "      <td>5</td>\n",
       "      <td>224,228</td>\n",
       "      <td>MKKNFIFLSGIAGILIGCLMLFKPASYQAEVTFFVPLTMMEKQINQ...</td>\n",
       "    </tr>\n",
       "    <tr>\n",
       "      <th>5</th>\n",
       "      <td>MGnify_marine</td>\n",
       "      <td>MGYG000296000@MGYG000296000_4_77</td>\n",
       "      <td>KGLGGGLKEFKK</td>\n",
       "      <td>12</td>\n",
       "      <td>35,46</td>\n",
       "      <td>MILSIFLGMVGPWQIVLILAIVLLLFGGRKIPELMKGLGGGLKEFK...</td>\n",
       "    </tr>\n",
       "    <tr>\n",
       "      <th>6</th>\n",
       "      <td>MGnify_marine</td>\n",
       "      <td>MGYG000296000@MGYG000296000_5_62</td>\n",
       "      <td>LLKVVLIKK</td>\n",
       "      <td>9</td>\n",
       "      <td>134,142</td>\n",
       "      <td>MKTVIHTSLTLVLAFFFIYKGFDKIPIKLKDISKDEIVNTIIEKNS...</td>\n",
       "    </tr>\n",
       "  </tbody>\n",
       "</table>\n",
       "</div>"
      ],
      "text/plain": [
       "          Source                             ProID           AMP  AMPlen  \\\n",
       "0  MGnify_marine  MGYG000296000@MGYG000296000_1_71     CLRRVQRKK       9   \n",
       "1  MGnify_marine  MGYG000296000@MGYG000296000_1_88      LYKWIGHK       8   \n",
       "2  MGnify_marine  MGYG000296000@MGYG000296000_3_84         LIGLL       5   \n",
       "5  MGnify_marine  MGYG000296000@MGYG000296000_4_77  KGLGGGLKEFKK      12   \n",
       "6  MGnify_marine  MGYG000296000@MGYG000296000_5_62     LLKVVLIKK       9   \n",
       "\n",
       "  Position                                           Sequence  \n",
       "0    53,61  MKTSFARRSLKTVEWVWLVIAILSLETVFSQWNEDRQRAYMFIIFT...  \n",
       "1    44,51  MAKFIGFLIALLIILTGFSMLLFLGLFVGYWLTLVGLEQFAPKMLY...  \n",
       "2  224,228  MKKNFIFLSGIAGILIGCLMLFKPASYQAEVTFFVPLTMMEKQINQ...  \n",
       "5    35,46  MILSIFLGMVGPWQIVLILAIVLLLFGGRKIPELMKGLGGGLKEFK...  \n",
       "6  134,142  MKTVIHTSLTLVLAFFFIYKGFDKIPIKLKDISKDEIVNTIIEKNS...  "
      ]
     },
     "execution_count": 4,
     "metadata": {},
     "output_type": "execute_result"
    }
   ],
   "source": [
    "marine = pd.read_csv('predictions/MGnify_marine/pred.csv',sep='\\t')\n",
    "marine = marine[marine['ProID']!='ProID']\n",
    "marine['AMPlen'] = marine['AMPlen'].astype('int').tolist()\n",
    "marine = marine[marine.AMPlen>=5]\n",
    "marine = marine.drop_duplicates(subset=['AMP','Position','Sequence'])\n",
    "marine['Source'] = 'MGnify_marine'\n",
    "marine = marine[['Source','ProID','AMP','AMPlen','Position','Sequence']]\n",
    "marine.head()"
   ]
  },
  {
   "cell_type": "code",
   "execution_count": null,
   "metadata": {},
   "outputs": [
    {
     "data": {
      "text/html": [
       "<div>\n",
       "<style scoped>\n",
       "    .dataframe tbody tr th:only-of-type {\n",
       "        vertical-align: middle;\n",
       "    }\n",
       "\n",
       "    .dataframe tbody tr th {\n",
       "        vertical-align: top;\n",
       "    }\n",
       "\n",
       "    .dataframe thead th {\n",
       "        text-align: right;\n",
       "    }\n",
       "</style>\n",
       "<table border=\"1\" class=\"dataframe\">\n",
       "  <thead>\n",
       "    <tr style=\"text-align: right;\">\n",
       "      <th></th>\n",
       "      <th>Source</th>\n",
       "      <th>ProID</th>\n",
       "      <th>AMP</th>\n",
       "      <th>AMPlen</th>\n",
       "      <th>Position</th>\n",
       "      <th>Sequence</th>\n",
       "    </tr>\n",
       "  </thead>\n",
       "  <tbody>\n",
       "    <tr>\n",
       "      <th>0</th>\n",
       "      <td>glacier</td>\n",
       "      <td>ISO_102-3@1_20</td>\n",
       "      <td>VSRKIRRR</td>\n",
       "      <td>8</td>\n",
       "      <td>215,222</td>\n",
       "      <td>MGNTLWGMEITAEQLSTAFGDTLYMVAISLIFSGLIGLPLGILLVI...</td>\n",
       "    </tr>\n",
       "    <tr>\n",
       "      <th>1</th>\n",
       "      <td>glacier</td>\n",
       "      <td>ISO_102-3@1_85</td>\n",
       "      <td>LKWFLKLL</td>\n",
       "      <td>8</td>\n",
       "      <td>117,124</td>\n",
       "      <td>MKKWKREIEINAPIEQVWKFLDGSVENMQKIMPQVVEQKPVKITEE...</td>\n",
       "    </tr>\n",
       "    <tr>\n",
       "      <th>2</th>\n",
       "      <td>glacier</td>\n",
       "      <td>ISO_102-3@1_110</td>\n",
       "      <td>KKKIMLLWF</td>\n",
       "      <td>9</td>\n",
       "      <td>159,167</td>\n",
       "      <td>MWNAVFWGGVSGSAVLLGALAAILIPIKKNIIGYIMAFGTGVLIGA...</td>\n",
       "    </tr>\n",
       "    <tr>\n",
       "      <th>5</th>\n",
       "      <td>glacier</td>\n",
       "      <td>ISO_102-3@1_124</td>\n",
       "      <td>NLFKR</td>\n",
       "      <td>5</td>\n",
       "      <td>1,5</td>\n",
       "      <td>MNLFKRTKKITDERIENVRNKIYKEMYYVILVICLASALFKLYKYG...</td>\n",
       "    </tr>\n",
       "    <tr>\n",
       "      <th>8</th>\n",
       "      <td>glacier</td>\n",
       "      <td>ISO_102-3@1_149</td>\n",
       "      <td>CYPVQGYGGFC</td>\n",
       "      <td>11</td>\n",
       "      <td>49,59</td>\n",
       "      <td>MSNCGHDSNCGCGNDVGGFGGGFAFIVVLFILLIIVGAACFGGDRG...</td>\n",
       "    </tr>\n",
       "  </tbody>\n",
       "</table>\n",
       "</div>"
      ],
      "text/plain": [
       "    Source            ProID          AMP  AMPlen Position  \\\n",
       "0  glacier   ISO_102-3@1_20     VSRKIRRR       8  215,222   \n",
       "1  glacier   ISO_102-3@1_85     LKWFLKLL       8  117,124   \n",
       "2  glacier  ISO_102-3@1_110    KKKIMLLWF       9  159,167   \n",
       "5  glacier  ISO_102-3@1_124        NLFKR       5      1,5   \n",
       "8  glacier  ISO_102-3@1_149  CYPVQGYGGFC      11    49,59   \n",
       "\n",
       "                                            Sequence  \n",
       "0  MGNTLWGMEITAEQLSTAFGDTLYMVAISLIFSGLIGLPLGILLVI...  \n",
       "1  MKKWKREIEINAPIEQVWKFLDGSVENMQKIMPQVVEQKPVKITEE...  \n",
       "2  MWNAVFWGGVSGSAVLLGALAAILIPIKKNIIGYIMAFGTGVLIGA...  \n",
       "5  MNLFKRTKKITDERIENVRNKIYKEMYYVILVICLASALFKLYKYG...  \n",
       "8  MSNCGHDSNCGCGNDVGGFGGGFAFIVVLFILLIIVGAACFGGDRG...  "
      ]
     },
     "execution_count": 5,
     "metadata": {},
     "output_type": "execute_result"
    }
   ],
   "source": [
    "icebert = pd.read_csv('predictions/2022_glacier/pred.csv',sep='\\t')\n",
    "icebert = icebert[icebert['ProID']!='ProID']\n",
    "icebert['AMPlen'] = icebert['AMPlen'].astype('int').tolist()\n",
    "icebert = icebert[icebert.AMPlen>=5]\n",
    "icebert = icebert.drop_duplicates(subset=['AMP','Position','Sequence'])\n",
    "icebert['Source'] = 'glacier'\n",
    "icebert = icebert[['Source','ProID','AMP','AMPlen','Position','Sequence']]\n",
    "icebert.head()"
   ]
  },
  {
   "cell_type": "code",
   "execution_count": 6,
   "metadata": {},
   "outputs": [],
   "source": [
    "env_data = pd.concat([marine,icebert],ignore_index=True)"
   ]
  },
  {
   "cell_type": "code",
   "execution_count": 7,
   "metadata": {},
   "outputs": [
    {
     "name": "stdout",
     "output_type": "stream",
     "text": [
      "Animal=646175, intersection=14492, Enviroment=108099\n"
     ]
    }
   ],
   "source": [
    "animal_set = set(animal_data['AMP'].tolist())\n",
    "env_set = set(env_data['AMP'].tolist())\n",
    "intersect = animal_set.intersection(env_set)\n",
    "animal_num = len(animal_set - intersect)\n",
    "env_num = len(env_set - intersect)\n",
    "print('Animal=%d, intersection=%d, Enviroment=%d' % (animal_num, len(intersect),env_num ))"
   ]
  },
  {
   "cell_type": "code",
   "execution_count": 8,
   "metadata": {},
   "outputs": [
    {
     "data": {
      "text/plain": [
       "0               ancient_human_gut\n",
       "52036              BGI_human_oral\n",
       "139943                  data_CGMR\n",
       "698532                 data_Hadza\n",
       "1185203          MGnify_cow_rumen\n",
       "1274618           MGnify_fish_gut\n",
       "1280712          MGnify_human_gut\n",
       "1457816         MGnify_human_oral\n",
       "1472576            MGnify_pig_gut\n",
       "1516944    MGnify_zibrafish_fecal\n",
       "Name: Source, dtype: object"
      ]
     },
     "execution_count": 8,
     "metadata": {},
     "output_type": "execute_result"
    }
   ],
   "source": [
    "animal_data.Source.drop_duplicates()"
   ]
  },
  {
   "cell_type": "code",
   "execution_count": 15,
   "metadata": {},
   "outputs": [
    {
     "name": "stdout",
     "output_type": "stream",
     "text": [
      "MGnify-human-gut, n = 144498\n",
      "CGMR, n = 264877\n",
      "Hadza, n = 231919\n",
      "Ancient-human-gut, n = 45010\n",
      "Cow-rumen, n = 78016\n",
      "Pig-gut, n = 40564\n",
      "Fish-gut, n = 11322\n",
      "Marine, n = 53437\n",
      "Glacier, n = 71251\n",
      "MGnify-human-oral, n = 12548\n",
      "BGI-human-oral, n = 57088\n"
     ]
    }
   ],
   "source": [
    "animal_data[\n",
    "            (animal_data.Source=='MGnify_cow_rumen') |\n",
    "            (animal_data.Source=='MGnify_fish_gut') |\n",
    "            (animal_data.Source=='MGnify_pig_gut') |\n",
    "            (animal_data.Source=='MGnify_zibrafish_fecal') |\n",
    "            (animal_data.Source=='ancient_human_gut') |\n",
    "            (animal_data.Source=='BGI_human_oral') |\n",
    "            (animal_data.Source=='data_CGMR') |\n",
    "            (animal_data.Source=='data_Hadza') |\n",
    "            (animal_data.Source=='MGnify_human_gut') |\n",
    "            (animal_data.Source=='MGnify_human_oral')\n",
    "            ].shape[0]\n",
    "\n",
    "## Human\n",
    "MGnify_lst = animal_data[animal_data.Source=='MGnify_human_gut'].AMP.drop_duplicates().tolist()\n",
    "CGMR_lst = animal_data[animal_data.Source=='data_CGMR'].AMP.drop_duplicates().tolist()\n",
    "Hadza_lst = animal_data[animal_data.Source=='data_Hadza'].AMP.drop_duplicates().tolist()\n",
    "Ancient_lst = animal_data[animal_data.Source=='ancient_human_gut'].AMP.drop_duplicates().tolist()\n",
    "\n",
    "MGnify_oral_list = animal_data[animal_data.Source=='MGnify_human_oral'].AMP.drop_duplicates().tolist()\n",
    "BGI_oral_list = animal_data[animal_data.Source=='BGI_human_oral'].AMP.drop_duplicates().tolist()\n",
    "\n",
    "## Non-human\n",
    "cow_lst = animal_data[animal_data.Source=='MGnify_cow_rumen'].AMP.drop_duplicates().tolist()\n",
    "pig_lst = animal_data[animal_data.Source=='MGnify_pig_gut'].AMP.drop_duplicates().tolist()\n",
    "fish_lst = animal_data[(animal_data.Source=='MGnify_fish_gut') |\n",
    "                       (animal_data.Source=='MGnify_zibrafish_fecal')].AMP.drop_duplicates().tolist()\n",
    "\n",
    "## Environment\n",
    "marine_lst = marine.AMP.drop_duplicates().tolist()\n",
    "icebert_lst = icebert.AMP.drop_duplicates().tolist()\n",
    "\n",
    "## Dict\n",
    "gut_dict = {\n",
    "    'MGnify-human-gut': MGnify_lst,\n",
    "    'CGMR': CGMR_lst,\n",
    "    'Hadza': Hadza_lst,\n",
    "    'Ancient-human-gut': Ancient_lst,\n",
    "    'Cow-rumen': cow_lst,\n",
    "    'Pig-gut': pig_lst,\n",
    "    'Fish-gut': fish_lst,\n",
    "    'Marine': marine_lst,\n",
    "    'Glacier': icebert_lst,\n",
    "    'MGnify-human-oral': MGnify_oral_list,\n",
    "    'BGI-human-oral': BGI_oral_list,\n",
    "}\n",
    "\n",
    "for k,l in gut_dict.items():\n",
    "    print('%s, n = %d' % (k, len(l)))\n",
    "# gut_order = [ 'CGMR', 'MGnify', 'Hadza','Ancient','Cow','Pig','Fish','Marine','Glacier' ]"
   ]
  },
  {
   "cell_type": "code",
   "execution_count": 12,
   "metadata": {},
   "outputs": [
    {
     "name": "stdout",
     "output_type": "stream",
     "text": [
      "12548\n",
      "57088\n"
     ]
    }
   ],
   "source": [
    "print(len(MGnify_oral_list))\n",
    "print(len(BGI_oral_list))"
   ]
  },
  {
   "cell_type": "code",
   "execution_count": 11,
   "metadata": {},
   "outputs": [
    {
     "name": "stdout",
     "output_type": "stream",
     "text": [
      "59051\n",
      "88604\n"
     ]
    }
   ],
   "source": [
    "print(env_data[env_data.Source=='MGnify_marine'].drop_duplicates(subset=['Sequence','AMP','Position']).shape[0])\n",
    "print(env_data[env_data.Source=='glacier'].drop_duplicates(subset=['Sequence','AMP','Position']).shape[0])"
   ]
  },
  {
   "cell_type": "code",
   "execution_count": 27,
   "metadata": {},
   "outputs": [
    {
     "data": {
      "application/vnd.plotly.v1+json": {
       "config": {
        "plotlyServerURL": "https://plot.ly"
       },
       "data": [
        {
         "arrangement": "snap",
         "link": {
          "color": [
           "rgba(131,180,255,0.4)",
           "rgba(98,149,162,0.4)",
           "rgba(255,222,149,0.4)",
           "rgba(255,222,149,0.4)",
           "rgba(255,222,149,0.4)",
           "rgba(255,222,149,0.4)",
           "rgba(98,149,162,0.4)",
           "rgba(13,146,118,0.4)",
           "rgba(13,146,118,0.4)",
           "rgba(13,146,118,0.4)",
           "rgba(131,180,255,0.4)",
           "rgba(3,52,110,0.4)",
           "rgba(3,52,110,0.4)",
           "rgba(255,222,149,0.4)",
           "rgba(255,222,149,0.4)"
          ],
          "source": [
           0,
           1,
           3,
           3,
           3,
           3,
           1,
           4,
           4,
           4,
           0,
           2,
           2,
           3,
           3
          ],
          "target": [
           1,
           3,
           10,
           11,
           12,
           13,
           4,
           5,
           6,
           7,
           2,
           8,
           9,
           14,
           15
          ],
          "value": [
           885842,
           755940,
           144498,
           264877,
           231919,
           45010,
           129902,
           78016,
           40564,
           11322,
           124688,
           53437,
           71251,
           12548,
           57088
          ]
         },
         "node": {
          "align": "center",
          "color": [
           "#83B4FF",
           "#6295A2",
           "#03346E",
           "#FFDE95",
           "#0D9276",
           "#114232",
           "#87A922",
           "#D2D180",
           "#1230AE",
           "#373A40",
           "#E178C5",
           "#891652",
           "#FF8E8F",
           "#FC819E",
           "#7E60BF",
           "#E4B1F0"
          ],
          "label": [
           "All-predicted-AMPs",
           "Animal",
           "Environment",
           "Human",
           "Non-human",
           "Cow-rumen",
           "Pig-gut",
           "Fish-gut",
           "Marine",
           "Glacier",
           "MGnify-human-gut",
           "CGMR",
           "Hadza",
           "Ancient-human-gut",
           "MGnify-human-oral",
           "BGI-human-oral"
          ],
          "line": {
           "color": "white",
           "width": 0.2
          },
          "pad": 10,
          "thickness": 10
         },
         "type": "sankey",
         "valueformat": ".0f",
         "valuesuffix": "TWh"
        }
       ],
       "layout": {
        "template": {
         "data": {
          "bar": [
           {
            "error_x": {
             "color": "#2a3f5f"
            },
            "error_y": {
             "color": "#2a3f5f"
            },
            "marker": {
             "line": {
              "color": "#E5ECF6",
              "width": 0.5
             },
             "pattern": {
              "fillmode": "overlay",
              "size": 10,
              "solidity": 0.2
             }
            },
            "type": "bar"
           }
          ],
          "barpolar": [
           {
            "marker": {
             "line": {
              "color": "#E5ECF6",
              "width": 0.5
             },
             "pattern": {
              "fillmode": "overlay",
              "size": 10,
              "solidity": 0.2
             }
            },
            "type": "barpolar"
           }
          ],
          "carpet": [
           {
            "aaxis": {
             "endlinecolor": "#2a3f5f",
             "gridcolor": "white",
             "linecolor": "white",
             "minorgridcolor": "white",
             "startlinecolor": "#2a3f5f"
            },
            "baxis": {
             "endlinecolor": "#2a3f5f",
             "gridcolor": "white",
             "linecolor": "white",
             "minorgridcolor": "white",
             "startlinecolor": "#2a3f5f"
            },
            "type": "carpet"
           }
          ],
          "choropleth": [
           {
            "colorbar": {
             "outlinewidth": 0,
             "ticks": ""
            },
            "type": "choropleth"
           }
          ],
          "contour": [
           {
            "colorbar": {
             "outlinewidth": 0,
             "ticks": ""
            },
            "colorscale": [
             [
              0,
              "#0d0887"
             ],
             [
              0.1111111111111111,
              "#46039f"
             ],
             [
              0.2222222222222222,
              "#7201a8"
             ],
             [
              0.3333333333333333,
              "#9c179e"
             ],
             [
              0.4444444444444444,
              "#bd3786"
             ],
             [
              0.5555555555555556,
              "#d8576b"
             ],
             [
              0.6666666666666666,
              "#ed7953"
             ],
             [
              0.7777777777777778,
              "#fb9f3a"
             ],
             [
              0.8888888888888888,
              "#fdca26"
             ],
             [
              1,
              "#f0f921"
             ]
            ],
            "type": "contour"
           }
          ],
          "contourcarpet": [
           {
            "colorbar": {
             "outlinewidth": 0,
             "ticks": ""
            },
            "type": "contourcarpet"
           }
          ],
          "heatmap": [
           {
            "colorbar": {
             "outlinewidth": 0,
             "ticks": ""
            },
            "colorscale": [
             [
              0,
              "#0d0887"
             ],
             [
              0.1111111111111111,
              "#46039f"
             ],
             [
              0.2222222222222222,
              "#7201a8"
             ],
             [
              0.3333333333333333,
              "#9c179e"
             ],
             [
              0.4444444444444444,
              "#bd3786"
             ],
             [
              0.5555555555555556,
              "#d8576b"
             ],
             [
              0.6666666666666666,
              "#ed7953"
             ],
             [
              0.7777777777777778,
              "#fb9f3a"
             ],
             [
              0.8888888888888888,
              "#fdca26"
             ],
             [
              1,
              "#f0f921"
             ]
            ],
            "type": "heatmap"
           }
          ],
          "heatmapgl": [
           {
            "colorbar": {
             "outlinewidth": 0,
             "ticks": ""
            },
            "colorscale": [
             [
              0,
              "#0d0887"
             ],
             [
              0.1111111111111111,
              "#46039f"
             ],
             [
              0.2222222222222222,
              "#7201a8"
             ],
             [
              0.3333333333333333,
              "#9c179e"
             ],
             [
              0.4444444444444444,
              "#bd3786"
             ],
             [
              0.5555555555555556,
              "#d8576b"
             ],
             [
              0.6666666666666666,
              "#ed7953"
             ],
             [
              0.7777777777777778,
              "#fb9f3a"
             ],
             [
              0.8888888888888888,
              "#fdca26"
             ],
             [
              1,
              "#f0f921"
             ]
            ],
            "type": "heatmapgl"
           }
          ],
          "histogram": [
           {
            "marker": {
             "pattern": {
              "fillmode": "overlay",
              "size": 10,
              "solidity": 0.2
             }
            },
            "type": "histogram"
           }
          ],
          "histogram2d": [
           {
            "colorbar": {
             "outlinewidth": 0,
             "ticks": ""
            },
            "colorscale": [
             [
              0,
              "#0d0887"
             ],
             [
              0.1111111111111111,
              "#46039f"
             ],
             [
              0.2222222222222222,
              "#7201a8"
             ],
             [
              0.3333333333333333,
              "#9c179e"
             ],
             [
              0.4444444444444444,
              "#bd3786"
             ],
             [
              0.5555555555555556,
              "#d8576b"
             ],
             [
              0.6666666666666666,
              "#ed7953"
             ],
             [
              0.7777777777777778,
              "#fb9f3a"
             ],
             [
              0.8888888888888888,
              "#fdca26"
             ],
             [
              1,
              "#f0f921"
             ]
            ],
            "type": "histogram2d"
           }
          ],
          "histogram2dcontour": [
           {
            "colorbar": {
             "outlinewidth": 0,
             "ticks": ""
            },
            "colorscale": [
             [
              0,
              "#0d0887"
             ],
             [
              0.1111111111111111,
              "#46039f"
             ],
             [
              0.2222222222222222,
              "#7201a8"
             ],
             [
              0.3333333333333333,
              "#9c179e"
             ],
             [
              0.4444444444444444,
              "#bd3786"
             ],
             [
              0.5555555555555556,
              "#d8576b"
             ],
             [
              0.6666666666666666,
              "#ed7953"
             ],
             [
              0.7777777777777778,
              "#fb9f3a"
             ],
             [
              0.8888888888888888,
              "#fdca26"
             ],
             [
              1,
              "#f0f921"
             ]
            ],
            "type": "histogram2dcontour"
           }
          ],
          "mesh3d": [
           {
            "colorbar": {
             "outlinewidth": 0,
             "ticks": ""
            },
            "type": "mesh3d"
           }
          ],
          "parcoords": [
           {
            "line": {
             "colorbar": {
              "outlinewidth": 0,
              "ticks": ""
             }
            },
            "type": "parcoords"
           }
          ],
          "pie": [
           {
            "automargin": true,
            "type": "pie"
           }
          ],
          "scatter": [
           {
            "fillpattern": {
             "fillmode": "overlay",
             "size": 10,
             "solidity": 0.2
            },
            "type": "scatter"
           }
          ],
          "scatter3d": [
           {
            "line": {
             "colorbar": {
              "outlinewidth": 0,
              "ticks": ""
             }
            },
            "marker": {
             "colorbar": {
              "outlinewidth": 0,
              "ticks": ""
             }
            },
            "type": "scatter3d"
           }
          ],
          "scattercarpet": [
           {
            "marker": {
             "colorbar": {
              "outlinewidth": 0,
              "ticks": ""
             }
            },
            "type": "scattercarpet"
           }
          ],
          "scattergeo": [
           {
            "marker": {
             "colorbar": {
              "outlinewidth": 0,
              "ticks": ""
             }
            },
            "type": "scattergeo"
           }
          ],
          "scattergl": [
           {
            "marker": {
             "colorbar": {
              "outlinewidth": 0,
              "ticks": ""
             }
            },
            "type": "scattergl"
           }
          ],
          "scattermapbox": [
           {
            "marker": {
             "colorbar": {
              "outlinewidth": 0,
              "ticks": ""
             }
            },
            "type": "scattermapbox"
           }
          ],
          "scatterpolar": [
           {
            "marker": {
             "colorbar": {
              "outlinewidth": 0,
              "ticks": ""
             }
            },
            "type": "scatterpolar"
           }
          ],
          "scatterpolargl": [
           {
            "marker": {
             "colorbar": {
              "outlinewidth": 0,
              "ticks": ""
             }
            },
            "type": "scatterpolargl"
           }
          ],
          "scatterternary": [
           {
            "marker": {
             "colorbar": {
              "outlinewidth": 0,
              "ticks": ""
             }
            },
            "type": "scatterternary"
           }
          ],
          "surface": [
           {
            "colorbar": {
             "outlinewidth": 0,
             "ticks": ""
            },
            "colorscale": [
             [
              0,
              "#0d0887"
             ],
             [
              0.1111111111111111,
              "#46039f"
             ],
             [
              0.2222222222222222,
              "#7201a8"
             ],
             [
              0.3333333333333333,
              "#9c179e"
             ],
             [
              0.4444444444444444,
              "#bd3786"
             ],
             [
              0.5555555555555556,
              "#d8576b"
             ],
             [
              0.6666666666666666,
              "#ed7953"
             ],
             [
              0.7777777777777778,
              "#fb9f3a"
             ],
             [
              0.8888888888888888,
              "#fdca26"
             ],
             [
              1,
              "#f0f921"
             ]
            ],
            "type": "surface"
           }
          ],
          "table": [
           {
            "cells": {
             "fill": {
              "color": "#EBF0F8"
             },
             "line": {
              "color": "white"
             }
            },
            "header": {
             "fill": {
              "color": "#C8D4E3"
             },
             "line": {
              "color": "white"
             }
            },
            "type": "table"
           }
          ]
         },
         "layout": {
          "annotationdefaults": {
           "arrowcolor": "#2a3f5f",
           "arrowhead": 0,
           "arrowwidth": 1
          },
          "autotypenumbers": "strict",
          "coloraxis": {
           "colorbar": {
            "outlinewidth": 0,
            "ticks": ""
           }
          },
          "colorscale": {
           "diverging": [
            [
             0,
             "#8e0152"
            ],
            [
             0.1,
             "#c51b7d"
            ],
            [
             0.2,
             "#de77ae"
            ],
            [
             0.3,
             "#f1b6da"
            ],
            [
             0.4,
             "#fde0ef"
            ],
            [
             0.5,
             "#f7f7f7"
            ],
            [
             0.6,
             "#e6f5d0"
            ],
            [
             0.7,
             "#b8e186"
            ],
            [
             0.8,
             "#7fbc41"
            ],
            [
             0.9,
             "#4d9221"
            ],
            [
             1,
             "#276419"
            ]
           ],
           "sequential": [
            [
             0,
             "#0d0887"
            ],
            [
             0.1111111111111111,
             "#46039f"
            ],
            [
             0.2222222222222222,
             "#7201a8"
            ],
            [
             0.3333333333333333,
             "#9c179e"
            ],
            [
             0.4444444444444444,
             "#bd3786"
            ],
            [
             0.5555555555555556,
             "#d8576b"
            ],
            [
             0.6666666666666666,
             "#ed7953"
            ],
            [
             0.7777777777777778,
             "#fb9f3a"
            ],
            [
             0.8888888888888888,
             "#fdca26"
            ],
            [
             1,
             "#f0f921"
            ]
           ],
           "sequentialminus": [
            [
             0,
             "#0d0887"
            ],
            [
             0.1111111111111111,
             "#46039f"
            ],
            [
             0.2222222222222222,
             "#7201a8"
            ],
            [
             0.3333333333333333,
             "#9c179e"
            ],
            [
             0.4444444444444444,
             "#bd3786"
            ],
            [
             0.5555555555555556,
             "#d8576b"
            ],
            [
             0.6666666666666666,
             "#ed7953"
            ],
            [
             0.7777777777777778,
             "#fb9f3a"
            ],
            [
             0.8888888888888888,
             "#fdca26"
            ],
            [
             1,
             "#f0f921"
            ]
           ]
          },
          "colorway": [
           "#636efa",
           "#EF553B",
           "#00cc96",
           "#ab63fa",
           "#FFA15A",
           "#19d3f3",
           "#FF6692",
           "#B6E880",
           "#FF97FF",
           "#FECB52"
          ],
          "font": {
           "color": "#2a3f5f"
          },
          "geo": {
           "bgcolor": "white",
           "lakecolor": "white",
           "landcolor": "#E5ECF6",
           "showlakes": true,
           "showland": true,
           "subunitcolor": "white"
          },
          "hoverlabel": {
           "align": "left"
          },
          "hovermode": "closest",
          "mapbox": {
           "style": "light"
          },
          "paper_bgcolor": "white",
          "plot_bgcolor": "#E5ECF6",
          "polar": {
           "angularaxis": {
            "gridcolor": "white",
            "linecolor": "white",
            "ticks": ""
           },
           "bgcolor": "#E5ECF6",
           "radialaxis": {
            "gridcolor": "white",
            "linecolor": "white",
            "ticks": ""
           }
          },
          "scene": {
           "xaxis": {
            "backgroundcolor": "#E5ECF6",
            "gridcolor": "white",
            "gridwidth": 2,
            "linecolor": "white",
            "showbackground": true,
            "ticks": "",
            "zerolinecolor": "white"
           },
           "yaxis": {
            "backgroundcolor": "#E5ECF6",
            "gridcolor": "white",
            "gridwidth": 2,
            "linecolor": "white",
            "showbackground": true,
            "ticks": "",
            "zerolinecolor": "white"
           },
           "zaxis": {
            "backgroundcolor": "#E5ECF6",
            "gridcolor": "white",
            "gridwidth": 2,
            "linecolor": "white",
            "showbackground": true,
            "ticks": "",
            "zerolinecolor": "white"
           }
          },
          "shapedefaults": {
           "line": {
            "color": "#2a3f5f"
           }
          },
          "ternary": {
           "aaxis": {
            "gridcolor": "white",
            "linecolor": "white",
            "ticks": ""
           },
           "baxis": {
            "gridcolor": "white",
            "linecolor": "white",
            "ticks": ""
           },
           "bgcolor": "#E5ECF6",
           "caxis": {
            "gridcolor": "white",
            "linecolor": "white",
            "ticks": ""
           }
          },
          "title": {
           "x": 0.05
          },
          "xaxis": {
           "automargin": true,
           "gridcolor": "white",
           "linecolor": "white",
           "ticks": "",
           "title": {
            "standoff": 15
           },
           "zerolinecolor": "white",
           "zerolinewidth": 2
          },
          "yaxis": {
           "automargin": true,
           "gridcolor": "white",
           "linecolor": "white",
           "ticks": "",
           "title": {
            "standoff": 15
           },
           "zerolinecolor": "white",
           "zerolinewidth": 2
          }
         }
        }
       }
      },
      "text/html": [
       "<div>                            <div id=\"53b75148-b998-4248-95eb-bff3e382a90e\" class=\"plotly-graph-div\" style=\"height:525px; width:100%;\"></div>            <script type=\"text/javascript\">                require([\"plotly\"], function(Plotly) {                    window.PLOTLYENV=window.PLOTLYENV || {};                                    if (document.getElementById(\"53b75148-b998-4248-95eb-bff3e382a90e\")) {                    Plotly.newPlot(                        \"53b75148-b998-4248-95eb-bff3e382a90e\",                        [{\"arrangement\":\"snap\",\"link\":{\"color\":[\"rgba(131,180,255,0.4)\",\"rgba(98,149,162,0.4)\",\"rgba(255,222,149,0.4)\",\"rgba(255,222,149,0.4)\",\"rgba(255,222,149,0.4)\",\"rgba(255,222,149,0.4)\",\"rgba(98,149,162,0.4)\",\"rgba(13,146,118,0.4)\",\"rgba(13,146,118,0.4)\",\"rgba(13,146,118,0.4)\",\"rgba(131,180,255,0.4)\",\"rgba(3,52,110,0.4)\",\"rgba(3,52,110,0.4)\",\"rgba(255,222,149,0.4)\",\"rgba(255,222,149,0.4)\"],\"source\":[0,1,3,3,3,3,1,4,4,4,0,2,2,3,3],\"target\":[1,3,10,11,12,13,4,5,6,7,2,8,9,14,15],\"value\":[885842,755940,144498,264877,231919,45010,129902,78016,40564,11322,124688,53437,71251,12548,57088]},\"node\":{\"align\":\"center\",\"color\":[\"#83B4FF\",\"#6295A2\",\"#03346E\",\"#FFDE95\",\"#0D9276\",\"#114232\",\"#87A922\",\"#D2D180\",\"#1230AE\",\"#373A40\",\"#E178C5\",\"#891652\",\"#FF8E8F\",\"#FC819E\",\"#7E60BF\",\"#E4B1F0\"],\"label\":[\"All-predicted-AMPs\",\"Animal\",\"Environment\",\"Human\",\"Non-human\",\"Cow-rumen\",\"Pig-gut\",\"Fish-gut\",\"Marine\",\"Glacier\",\"MGnify-human-gut\",\"CGMR\",\"Hadza\",\"Ancient-human-gut\",\"MGnify-human-oral\",\"BGI-human-oral\"],\"line\":{\"color\":\"white\",\"width\":0.2},\"pad\":10,\"thickness\":10},\"valueformat\":\".0f\",\"valuesuffix\":\"TWh\",\"type\":\"sankey\"}],                        {\"template\":{\"data\":{\"histogram2dcontour\":[{\"type\":\"histogram2dcontour\",\"colorbar\":{\"outlinewidth\":0,\"ticks\":\"\"},\"colorscale\":[[0.0,\"#0d0887\"],[0.1111111111111111,\"#46039f\"],[0.2222222222222222,\"#7201a8\"],[0.3333333333333333,\"#9c179e\"],[0.4444444444444444,\"#bd3786\"],[0.5555555555555556,\"#d8576b\"],[0.6666666666666666,\"#ed7953\"],[0.7777777777777778,\"#fb9f3a\"],[0.8888888888888888,\"#fdca26\"],[1.0,\"#f0f921\"]]}],\"choropleth\":[{\"type\":\"choropleth\",\"colorbar\":{\"outlinewidth\":0,\"ticks\":\"\"}}],\"histogram2d\":[{\"type\":\"histogram2d\",\"colorbar\":{\"outlinewidth\":0,\"ticks\":\"\"},\"colorscale\":[[0.0,\"#0d0887\"],[0.1111111111111111,\"#46039f\"],[0.2222222222222222,\"#7201a8\"],[0.3333333333333333,\"#9c179e\"],[0.4444444444444444,\"#bd3786\"],[0.5555555555555556,\"#d8576b\"],[0.6666666666666666,\"#ed7953\"],[0.7777777777777778,\"#fb9f3a\"],[0.8888888888888888,\"#fdca26\"],[1.0,\"#f0f921\"]]}],\"heatmap\":[{\"type\":\"heatmap\",\"colorbar\":{\"outlinewidth\":0,\"ticks\":\"\"},\"colorscale\":[[0.0,\"#0d0887\"],[0.1111111111111111,\"#46039f\"],[0.2222222222222222,\"#7201a8\"],[0.3333333333333333,\"#9c179e\"],[0.4444444444444444,\"#bd3786\"],[0.5555555555555556,\"#d8576b\"],[0.6666666666666666,\"#ed7953\"],[0.7777777777777778,\"#fb9f3a\"],[0.8888888888888888,\"#fdca26\"],[1.0,\"#f0f921\"]]}],\"heatmapgl\":[{\"type\":\"heatmapgl\",\"colorbar\":{\"outlinewidth\":0,\"ticks\":\"\"},\"colorscale\":[[0.0,\"#0d0887\"],[0.1111111111111111,\"#46039f\"],[0.2222222222222222,\"#7201a8\"],[0.3333333333333333,\"#9c179e\"],[0.4444444444444444,\"#bd3786\"],[0.5555555555555556,\"#d8576b\"],[0.6666666666666666,\"#ed7953\"],[0.7777777777777778,\"#fb9f3a\"],[0.8888888888888888,\"#fdca26\"],[1.0,\"#f0f921\"]]}],\"contourcarpet\":[{\"type\":\"contourcarpet\",\"colorbar\":{\"outlinewidth\":0,\"ticks\":\"\"}}],\"contour\":[{\"type\":\"contour\",\"colorbar\":{\"outlinewidth\":0,\"ticks\":\"\"},\"colorscale\":[[0.0,\"#0d0887\"],[0.1111111111111111,\"#46039f\"],[0.2222222222222222,\"#7201a8\"],[0.3333333333333333,\"#9c179e\"],[0.4444444444444444,\"#bd3786\"],[0.5555555555555556,\"#d8576b\"],[0.6666666666666666,\"#ed7953\"],[0.7777777777777778,\"#fb9f3a\"],[0.8888888888888888,\"#fdca26\"],[1.0,\"#f0f921\"]]}],\"surface\":[{\"type\":\"surface\",\"colorbar\":{\"outlinewidth\":0,\"ticks\":\"\"},\"colorscale\":[[0.0,\"#0d0887\"],[0.1111111111111111,\"#46039f\"],[0.2222222222222222,\"#7201a8\"],[0.3333333333333333,\"#9c179e\"],[0.4444444444444444,\"#bd3786\"],[0.5555555555555556,\"#d8576b\"],[0.6666666666666666,\"#ed7953\"],[0.7777777777777778,\"#fb9f3a\"],[0.8888888888888888,\"#fdca26\"],[1.0,\"#f0f921\"]]}],\"mesh3d\":[{\"type\":\"mesh3d\",\"colorbar\":{\"outlinewidth\":0,\"ticks\":\"\"}}],\"scatter\":[{\"fillpattern\":{\"fillmode\":\"overlay\",\"size\":10,\"solidity\":0.2},\"type\":\"scatter\"}],\"parcoords\":[{\"type\":\"parcoords\",\"line\":{\"colorbar\":{\"outlinewidth\":0,\"ticks\":\"\"}}}],\"scatterpolargl\":[{\"type\":\"scatterpolargl\",\"marker\":{\"colorbar\":{\"outlinewidth\":0,\"ticks\":\"\"}}}],\"bar\":[{\"error_x\":{\"color\":\"#2a3f5f\"},\"error_y\":{\"color\":\"#2a3f5f\"},\"marker\":{\"line\":{\"color\":\"#E5ECF6\",\"width\":0.5},\"pattern\":{\"fillmode\":\"overlay\",\"size\":10,\"solidity\":0.2}},\"type\":\"bar\"}],\"scattergeo\":[{\"type\":\"scattergeo\",\"marker\":{\"colorbar\":{\"outlinewidth\":0,\"ticks\":\"\"}}}],\"scatterpolar\":[{\"type\":\"scatterpolar\",\"marker\":{\"colorbar\":{\"outlinewidth\":0,\"ticks\":\"\"}}}],\"histogram\":[{\"marker\":{\"pattern\":{\"fillmode\":\"overlay\",\"size\":10,\"solidity\":0.2}},\"type\":\"histogram\"}],\"scattergl\":[{\"type\":\"scattergl\",\"marker\":{\"colorbar\":{\"outlinewidth\":0,\"ticks\":\"\"}}}],\"scatter3d\":[{\"type\":\"scatter3d\",\"line\":{\"colorbar\":{\"outlinewidth\":0,\"ticks\":\"\"}},\"marker\":{\"colorbar\":{\"outlinewidth\":0,\"ticks\":\"\"}}}],\"scattermapbox\":[{\"type\":\"scattermapbox\",\"marker\":{\"colorbar\":{\"outlinewidth\":0,\"ticks\":\"\"}}}],\"scatterternary\":[{\"type\":\"scatterternary\",\"marker\":{\"colorbar\":{\"outlinewidth\":0,\"ticks\":\"\"}}}],\"scattercarpet\":[{\"type\":\"scattercarpet\",\"marker\":{\"colorbar\":{\"outlinewidth\":0,\"ticks\":\"\"}}}],\"carpet\":[{\"aaxis\":{\"endlinecolor\":\"#2a3f5f\",\"gridcolor\":\"white\",\"linecolor\":\"white\",\"minorgridcolor\":\"white\",\"startlinecolor\":\"#2a3f5f\"},\"baxis\":{\"endlinecolor\":\"#2a3f5f\",\"gridcolor\":\"white\",\"linecolor\":\"white\",\"minorgridcolor\":\"white\",\"startlinecolor\":\"#2a3f5f\"},\"type\":\"carpet\"}],\"table\":[{\"cells\":{\"fill\":{\"color\":\"#EBF0F8\"},\"line\":{\"color\":\"white\"}},\"header\":{\"fill\":{\"color\":\"#C8D4E3\"},\"line\":{\"color\":\"white\"}},\"type\":\"table\"}],\"barpolar\":[{\"marker\":{\"line\":{\"color\":\"#E5ECF6\",\"width\":0.5},\"pattern\":{\"fillmode\":\"overlay\",\"size\":10,\"solidity\":0.2}},\"type\":\"barpolar\"}],\"pie\":[{\"automargin\":true,\"type\":\"pie\"}]},\"layout\":{\"autotypenumbers\":\"strict\",\"colorway\":[\"#636efa\",\"#EF553B\",\"#00cc96\",\"#ab63fa\",\"#FFA15A\",\"#19d3f3\",\"#FF6692\",\"#B6E880\",\"#FF97FF\",\"#FECB52\"],\"font\":{\"color\":\"#2a3f5f\"},\"hovermode\":\"closest\",\"hoverlabel\":{\"align\":\"left\"},\"paper_bgcolor\":\"white\",\"plot_bgcolor\":\"#E5ECF6\",\"polar\":{\"bgcolor\":\"#E5ECF6\",\"angularaxis\":{\"gridcolor\":\"white\",\"linecolor\":\"white\",\"ticks\":\"\"},\"radialaxis\":{\"gridcolor\":\"white\",\"linecolor\":\"white\",\"ticks\":\"\"}},\"ternary\":{\"bgcolor\":\"#E5ECF6\",\"aaxis\":{\"gridcolor\":\"white\",\"linecolor\":\"white\",\"ticks\":\"\"},\"baxis\":{\"gridcolor\":\"white\",\"linecolor\":\"white\",\"ticks\":\"\"},\"caxis\":{\"gridcolor\":\"white\",\"linecolor\":\"white\",\"ticks\":\"\"}},\"coloraxis\":{\"colorbar\":{\"outlinewidth\":0,\"ticks\":\"\"}},\"colorscale\":{\"sequential\":[[0.0,\"#0d0887\"],[0.1111111111111111,\"#46039f\"],[0.2222222222222222,\"#7201a8\"],[0.3333333333333333,\"#9c179e\"],[0.4444444444444444,\"#bd3786\"],[0.5555555555555556,\"#d8576b\"],[0.6666666666666666,\"#ed7953\"],[0.7777777777777778,\"#fb9f3a\"],[0.8888888888888888,\"#fdca26\"],[1.0,\"#f0f921\"]],\"sequentialminus\":[[0.0,\"#0d0887\"],[0.1111111111111111,\"#46039f\"],[0.2222222222222222,\"#7201a8\"],[0.3333333333333333,\"#9c179e\"],[0.4444444444444444,\"#bd3786\"],[0.5555555555555556,\"#d8576b\"],[0.6666666666666666,\"#ed7953\"],[0.7777777777777778,\"#fb9f3a\"],[0.8888888888888888,\"#fdca26\"],[1.0,\"#f0f921\"]],\"diverging\":[[0,\"#8e0152\"],[0.1,\"#c51b7d\"],[0.2,\"#de77ae\"],[0.3,\"#f1b6da\"],[0.4,\"#fde0ef\"],[0.5,\"#f7f7f7\"],[0.6,\"#e6f5d0\"],[0.7,\"#b8e186\"],[0.8,\"#7fbc41\"],[0.9,\"#4d9221\"],[1,\"#276419\"]]},\"xaxis\":{\"gridcolor\":\"white\",\"linecolor\":\"white\",\"ticks\":\"\",\"title\":{\"standoff\":15},\"zerolinecolor\":\"white\",\"automargin\":true,\"zerolinewidth\":2},\"yaxis\":{\"gridcolor\":\"white\",\"linecolor\":\"white\",\"ticks\":\"\",\"title\":{\"standoff\":15},\"zerolinecolor\":\"white\",\"automargin\":true,\"zerolinewidth\":2},\"scene\":{\"xaxis\":{\"backgroundcolor\":\"#E5ECF6\",\"gridcolor\":\"white\",\"linecolor\":\"white\",\"showbackground\":true,\"ticks\":\"\",\"zerolinecolor\":\"white\",\"gridwidth\":2},\"yaxis\":{\"backgroundcolor\":\"#E5ECF6\",\"gridcolor\":\"white\",\"linecolor\":\"white\",\"showbackground\":true,\"ticks\":\"\",\"zerolinecolor\":\"white\",\"gridwidth\":2},\"zaxis\":{\"backgroundcolor\":\"#E5ECF6\",\"gridcolor\":\"white\",\"linecolor\":\"white\",\"showbackground\":true,\"ticks\":\"\",\"zerolinecolor\":\"white\",\"gridwidth\":2}},\"shapedefaults\":{\"line\":{\"color\":\"#2a3f5f\"}},\"annotationdefaults\":{\"arrowcolor\":\"#2a3f5f\",\"arrowhead\":0,\"arrowwidth\":1},\"geo\":{\"bgcolor\":\"white\",\"landcolor\":\"#E5ECF6\",\"subunitcolor\":\"white\",\"showland\":true,\"showlakes\":true,\"lakecolor\":\"white\"},\"title\":{\"x\":0.05},\"mapbox\":{\"style\":\"light\"}}}},                        {\"responsive\": true}                    ).then(function(){\n",
       "                            \n",
       "var gd = document.getElementById('53b75148-b998-4248-95eb-bff3e382a90e');\n",
       "var x = new MutationObserver(function (mutations, observer) {{\n",
       "        var display = window.getComputedStyle(gd).display;\n",
       "        if (!display || display === 'none') {{\n",
       "            console.log([gd, 'removed!']);\n",
       "            Plotly.purge(gd);\n",
       "            observer.disconnect();\n",
       "        }}\n",
       "}});\n",
       "\n",
       "// Listen for the removal of the full notebook cells\n",
       "var notebookContainer = gd.closest('#notebook-container');\n",
       "if (notebookContainer) {{\n",
       "    x.observe(notebookContainer, {childList: true});\n",
       "}}\n",
       "\n",
       "// Listen for the clearing of the current output cell\n",
       "var outputEl = gd.closest('.output');\n",
       "if (outputEl) {{\n",
       "    x.observe(outputEl, {childList: true});\n",
       "}}\n",
       "\n",
       "                        })                };                });            </script>        </div>"
      ]
     },
     "metadata": {},
     "output_type": "display_data"
    }
   ],
   "source": [
    "def hex_to_rgb(value,opacity=0.4):\n",
    "    value = value.lstrip('#')\n",
    "    lv = len(value)\n",
    "    (r,g,b) = tuple(int(value[i:i + lv // 3], 16) for i in range(0, lv, lv // 3))\n",
    "    code = 'rgba(%d,%d,%d,%.1f)' % (r,g,b,opacity)\n",
    "    return code\n",
    "  \n",
    "color_lst = [ '#83B4FF',\n",
    "              '#6295A2','#03346E',\n",
    "              '#FFDE95','#0D9276',\n",
    "              '#114232','#87A922','#D2D180',\n",
    "              '#1230AE','#373A40',\n",
    "              '#E178C5','#891652','#FF8E8F','#FC819E',\n",
    "              '#7E60BF', '#E4B1F0',\n",
    "            ]\n",
    "label_lst = [ \"All-predicted-AMPs\",      ## 0\n",
    "              \"Animal\", \"Environment\",   ## 1,2\n",
    "              \"Human\", \"Non-human\",      ## 3,4\n",
    "              \"Cow-rumen\", \"Pig-gut\", \"Fish-gut\",      ## 5,6,7    \n",
    "              \"Marine\", \"Glacier\",       ## 8,9 \n",
    "              \"MGnify-human-gut\", 'CGMR', 'Hadza', 'Ancient-human-gut',  ## 10,11,12,13\n",
    "              \"MGnify-human-oral\", 'BGI-human-oral',  ## 14,15       \n",
    "            ]\n",
    "\n",
    "label2color = dict(zip(label_lst,color_lst))\n",
    "\n",
    "link_color_lst = [\n",
    "    label2color[\"All-predicted-AMPs\"],\n",
    "    label2color[\"Animal\"],\n",
    "    label2color[\"Human\"],label2color[\"Human\"],label2color[\"Human\"],label2color[\"Human\"],\n",
    "    label2color[\"Animal\"],\n",
    "    label2color[\"Non-human\"],label2color[\"Non-human\"],label2color[\"Non-human\"],\n",
    "    label2color[\"All-predicted-AMPs\"],\n",
    "    label2color['Environment'],label2color['Environment'], \n",
    "    label2color['Human'], label2color['Human'],\n",
    "]\n",
    "\n",
    "fig = go.Figure(data=[go.Sankey(\n",
    "    valueformat = \".0f\",\n",
    "    valuesuffix = \"TWh\",\n",
    "    arrangement='snap',\n",
    "    # Define nodes\n",
    "    node = dict(\n",
    "      pad = 10,\n",
    "      thickness = 10,\n",
    "      align='center',\n",
    "      line = dict(color = \"white\", width = 0.2),\n",
    "      label = label_lst,\n",
    "      color = color_lst,\n",
    "    ),\n",
    "    link = dict(\n",
    "      source = [0,      ## All -> Animal\n",
    "                1,      ## Animal -> Human\n",
    "                3,      ## Human -> MGnify-human-gut\n",
    "                3,      ## Human -> CGMR\n",
    "                3,      ## Human -> Hadza\n",
    "                3,      ## Human -> Ancient-human-gut\n",
    "                1,      ## Animal -> Non-human\n",
    "                4,      ## Non-human -> Cow-rumen\n",
    "                4,      ## Non-human -> Pig-gut\n",
    "                4,      ## Non-human -> Fish-gut\n",
    "                \n",
    "                0,      ## All -> Environment\n",
    "                2,      ## Environment -> Marine\n",
    "                2,      ## Environment -> Glacier\n",
    "                \n",
    "                3,      ## Human -> MGnify-human-oral\n",
    "                3,      ## Human -> BGI-human-oral\n",
    "                ], \n",
    "\n",
    "      target = [1,      ## All -> Animal\n",
    "                3,      ## Animal -> Human\n",
    "                10,     ## Human -> MGnify-human-gut \n",
    "                11,     ## Human -> CGMR \n",
    "                12,     ## Human -> Hadza\n",
    "                13,     ## Human -> Ancient-human-gut\n",
    "                4,      ## Animal -> Non-human\n",
    "                5,      ## Non-human -> Cow-rumen\n",
    "                6,      ## Non-human -> Pig-gut\n",
    "                7,      ## Non-human -> Fish-gut\n",
    "                \n",
    "                2,      ## All -> Environment\n",
    "                8,     ## Environment -> Marine\n",
    "                9,     ## Environment -> Glacier\n",
    "                \n",
    "                14,     ## Human -> MGnify-human-oral\n",
    "                15,     ## Human -> BGI-human-oral\n",
    "                ],    \n",
    "      value = [885842, #1522945, ## All -> Animal\n",
    "               755940, #1377067, ## Animal -> Human\n",
    "               144498, #14760,   ## Human -> MGnify-human-gut\n",
    "               264877, #558589,  ## Human -> CGMR\n",
    "               231919, #486671,  ## Human -> Hadza\n",
    "               45010, #52036,   ## Human -> Ancient-human-gut\n",
    "               129902, #145878,  ## Animal -> Non-human\n",
    "               78016, #89415,   ## Non-human -> Cow-rumen\n",
    "               40564, #44368,   ## Non-human -> Pig-gut\n",
    "               11322, #12095,   ## Non-human -> Fish-gut\n",
    "               \n",
    "               124688, #147655,  ## All -> Environment\n",
    "               53437, #59051,   ## Environment -> Marine\n",
    "               71251, #88604,   ## Environment -> Glacier\n",
    "               \n",
    "               12548, #12548,   ## Human -> MGnify-human-oral\n",
    "               57088, #57088,   ## Human -> BGI-human-oral\n",
    "               ],\n",
    "      color = [hex_to_rgb(x) for x in link_color_lst]\n",
    "  ))])\n",
    "\n",
    "fig.show()\n",
    "fig.write_image(\"AMPs.pdf\", engine=\"kaleido\")"
   ]
  },
  {
   "cell_type": "code",
   "execution_count": 22,
   "metadata": {},
   "outputs": [
    {
     "data": {
      "text/plain": [
       "[[0, 73389, 13051, 60362, 7684, 13144, 2464],\n",
       " [73389, 0, 16819, 43634, 7402, 12006, 1610],\n",
       " [13051, 16819, 0, 10215, 2485, 3987, 584],\n",
       " [60362, 43634, 10215, 0, 6322, 11386, 2096],\n",
       " [7684, 7402, 2485, 6322, 0, 3630, 519],\n",
       " [13144, 12006, 3987, 11386, 3630, 0, 1150],\n",
       " [2464, 1610, 584, 2096, 519, 1150, 0]]"
      ]
     },
     "execution_count": 22,
     "metadata": {},
     "output_type": "execute_result"
    }
   ],
   "source": [
    "gut_order = [ 'CGMR', 'Hadza','Ancient-human-gut','MGnify-human-gut',\"Cow-rumen\", \"Pig-gut\", \"Fish-gut\",\n",
    "            #  'Marine','Glacier',\n",
    "             ]\n",
    "matrix = []\n",
    "for n in gut_order:\n",
    "    x_set = set(gut_dict[n])\n",
    "    z_mat = []\n",
    "    for m in gut_order:\n",
    "        y_set = set(gut_dict[m])\n",
    "        if n == m:\n",
    "            z_mat.append(0)\n",
    "        else:\n",
    "            z_mat.append(len(x_set.intersection(y_set)))\n",
    "        # z_mat.append(len(x_set.intersection(y_set)))\n",
    "    matrix.append(z_mat)\n",
    "    \n",
    "matrix    "
   ]
  },
  {
   "cell_type": "code",
   "execution_count": 23,
   "metadata": {},
   "outputs": [],
   "source": [
    "mat = pd.DataFrame.from_dict(dict(zip(gut_order,matrix)))\n",
    "mat['Index'] = gut_order\n",
    "mat.index = gut_order\n",
    "mat.to_csv('AMPs_share.tab',sep='\\t',index=False)"
   ]
  },
  {
   "cell_type": "code",
   "execution_count": 24,
   "metadata": {},
   "outputs": [
    {
     "data": {
      "text/html": [
       "<div>\n",
       "<style scoped>\n",
       "    .dataframe tbody tr th:only-of-type {\n",
       "        vertical-align: middle;\n",
       "    }\n",
       "\n",
       "    .dataframe tbody tr th {\n",
       "        vertical-align: top;\n",
       "    }\n",
       "\n",
       "    .dataframe thead th {\n",
       "        text-align: right;\n",
       "    }\n",
       "</style>\n",
       "<table border=\"1\" class=\"dataframe\">\n",
       "  <thead>\n",
       "    <tr style=\"text-align: right;\">\n",
       "      <th></th>\n",
       "      <th>CGMR</th>\n",
       "      <th>Hadza</th>\n",
       "      <th>Ancient-human-gut</th>\n",
       "      <th>MGnify-human-gut</th>\n",
       "      <th>Cow-rumen</th>\n",
       "      <th>Pig-gut</th>\n",
       "      <th>Fish-gut</th>\n",
       "      <th>Index</th>\n",
       "    </tr>\n",
       "  </thead>\n",
       "  <tbody>\n",
       "    <tr>\n",
       "      <th>CGMR</th>\n",
       "      <td>0</td>\n",
       "      <td>73389</td>\n",
       "      <td>13051</td>\n",
       "      <td>60362</td>\n",
       "      <td>7684</td>\n",
       "      <td>13144</td>\n",
       "      <td>2464</td>\n",
       "      <td>CGMR</td>\n",
       "    </tr>\n",
       "    <tr>\n",
       "      <th>Hadza</th>\n",
       "      <td>73389</td>\n",
       "      <td>0</td>\n",
       "      <td>16819</td>\n",
       "      <td>43634</td>\n",
       "      <td>7402</td>\n",
       "      <td>12006</td>\n",
       "      <td>1610</td>\n",
       "      <td>Hadza</td>\n",
       "    </tr>\n",
       "    <tr>\n",
       "      <th>Ancient-human-gut</th>\n",
       "      <td>13051</td>\n",
       "      <td>16819</td>\n",
       "      <td>0</td>\n",
       "      <td>10215</td>\n",
       "      <td>2485</td>\n",
       "      <td>3987</td>\n",
       "      <td>584</td>\n",
       "      <td>Ancient-human-gut</td>\n",
       "    </tr>\n",
       "    <tr>\n",
       "      <th>MGnify-human-gut</th>\n",
       "      <td>60362</td>\n",
       "      <td>43634</td>\n",
       "      <td>10215</td>\n",
       "      <td>0</td>\n",
       "      <td>6322</td>\n",
       "      <td>11386</td>\n",
       "      <td>2096</td>\n",
       "      <td>MGnify-human-gut</td>\n",
       "    </tr>\n",
       "    <tr>\n",
       "      <th>Cow-rumen</th>\n",
       "      <td>7684</td>\n",
       "      <td>7402</td>\n",
       "      <td>2485</td>\n",
       "      <td>6322</td>\n",
       "      <td>0</td>\n",
       "      <td>3630</td>\n",
       "      <td>519</td>\n",
       "      <td>Cow-rumen</td>\n",
       "    </tr>\n",
       "    <tr>\n",
       "      <th>Pig-gut</th>\n",
       "      <td>13144</td>\n",
       "      <td>12006</td>\n",
       "      <td>3987</td>\n",
       "      <td>11386</td>\n",
       "      <td>3630</td>\n",
       "      <td>0</td>\n",
       "      <td>1150</td>\n",
       "      <td>Pig-gut</td>\n",
       "    </tr>\n",
       "    <tr>\n",
       "      <th>Fish-gut</th>\n",
       "      <td>2464</td>\n",
       "      <td>1610</td>\n",
       "      <td>584</td>\n",
       "      <td>2096</td>\n",
       "      <td>519</td>\n",
       "      <td>1150</td>\n",
       "      <td>0</td>\n",
       "      <td>Fish-gut</td>\n",
       "    </tr>\n",
       "  </tbody>\n",
       "</table>\n",
       "</div>"
      ],
      "text/plain": [
       "                    CGMR  Hadza  Ancient-human-gut  MGnify-human-gut  \\\n",
       "CGMR                   0  73389              13051             60362   \n",
       "Hadza              73389      0              16819             43634   \n",
       "Ancient-human-gut  13051  16819                  0             10215   \n",
       "MGnify-human-gut   60362  43634              10215                 0   \n",
       "Cow-rumen           7684   7402               2485              6322   \n",
       "Pig-gut            13144  12006               3987             11386   \n",
       "Fish-gut            2464   1610                584              2096   \n",
       "\n",
       "                   Cow-rumen  Pig-gut  Fish-gut              Index  \n",
       "CGMR                    7684    13144      2464               CGMR  \n",
       "Hadza                   7402    12006      1610              Hadza  \n",
       "Ancient-human-gut       2485     3987       584  Ancient-human-gut  \n",
       "MGnify-human-gut        6322    11386      2096   MGnify-human-gut  \n",
       "Cow-rumen                  0     3630       519          Cow-rumen  \n",
       "Pig-gut                 3630        0      1150            Pig-gut  \n",
       "Fish-gut                 519     1150         0           Fish-gut  "
      ]
     },
     "execution_count": 24,
     "metadata": {},
     "output_type": "execute_result"
    }
   ],
   "source": [
    "mat"
   ]
  },
  {
   "cell_type": "code",
   "execution_count": 25,
   "metadata": {},
   "outputs": [
    {
     "data": {
      "image/svg+xml": [
       "<?xml version=\"1.0\" encoding=\"UTF-8\"?>\n",
       "<svg xmlns=\"http://www.w3.org/2000/svg\" xmlns:xlink=\"http://www.w3.org/1999/xlink\"\n",
       "     width=\"500.0\" height=\"500.0\" viewBox=\"-250 -250 500.0 500.0\">\n",
       "<defs>\n",
       "<linearGradient x1=\"104.32204605772827\" y1=\"-170.63678005145673\" x2=\"-169.63550024855866\" y2=\"-105.94242330351548\" gradientUnits=\"userSpaceOnUse\" id=\"ZLdNJdGa0\">\n",
       "<stop offset=\"0\" stop-color=\"#891652\" />\n",
       "<stop offset=\"1\" stop-color=\"#FF8E8F\" />\n",
       "</linearGradient>\n",
       "<linearGradient x1=\"126.79324299544632\" y1=\"-154.67214852939009\" x2=\"-161.78400448828725\" y2=\"117.58373991217432\" gradientUnits=\"userSpaceOnUse\" id=\"ZLdNJdGa1\">\n",
       "<stop offset=\"0\" stop-color=\"#891652\" />\n",
       "<stop offset=\"1\" stop-color=\"#FC819E\" />\n",
       "</linearGradient>\n",
       "<linearGradient x1=\"126.79324299544632\" y1=\"-154.67214852939009\" x2=\"-35.93524782529151\" y2=\"196.74515994995883\" gradientUnits=\"userSpaceOnUse\" id=\"ZLdNJdGa2\">\n",
       "<stop offset=\"0\" stop-color=\"#891652\" />\n",
       "<stop offset=\"1\" stop-color=\"#E178C5\" />\n",
       "</linearGradient>\n",
       "<linearGradient x1=\"193.9706084381347\" y1=\"-48.738106878907736\" x2=\"149.98042306698935\" y2=\"132.3097603982673\" gradientUnits=\"userSpaceOnUse\" id=\"ZLdNJdGa3\">\n",
       "<stop offset=\"0\" stop-color=\"#891652\" />\n",
       "<stop offset=\"1\" stop-color=\"#114232\" />\n",
       "</linearGradient>\n",
       "<linearGradient x1=\"197.2850384835826\" y1=\"-32.84225312811733\" x2=\"193.27325351633073\" y2=\"51.4339331104686\" gradientUnits=\"userSpaceOnUse\" id=\"ZLdNJdGa4\">\n",
       "<stop offset=\"0\" stop-color=\"#891652\" />\n",
       "<stop offset=\"1\" stop-color=\"#87A922\" />\n",
       "</linearGradient>\n",
       "<linearGradient x1=\"199.93218729626176\" y1=\"-5.207732993587917\" x2=\"199.870114308217\" y2=\"7.206761160206647\" gradientUnits=\"userSpaceOnUse\" id=\"ZLdNJdGa5\">\n",
       "<stop offset=\"0\" stop-color=\"#891652\" />\n",
       "<stop offset=\"1\" stop-color=\"#D2D180\" />\n",
       "</linearGradient>\n",
       "<linearGradient x1=\"-198.4386562358418\" y1=\"24.941926776281935\" x2=\"-176.41481095265382\" y2=\"94.22215491347781\" gradientUnits=\"userSpaceOnUse\" id=\"ZLdNJdGa6\">\n",
       "<stop offset=\"0\" stop-color=\"#FF8E8F\" />\n",
       "<stop offset=\"1\" stop-color=\"#FC819E\" />\n",
       "</linearGradient>\n",
       "<linearGradient x1=\"-188.80794620033225\" y1=\"-65.96635090417267\" x2=\"-35.93524782529151\" y2=\"196.74515994995883\" gradientUnits=\"userSpaceOnUse\" id=\"ZLdNJdGa7\">\n",
       "<stop offset=\"0\" stop-color=\"#FF8E8F\" />\n",
       "<stop offset=\"1\" stop-color=\"#E178C5\" />\n",
       "</linearGradient>\n",
       "<linearGradient x1=\"-183.07516794225208\" y1=\"-80.52007751434539\" x2=\"149.98042306698935\" y2=\"132.3097603982673\" gradientUnits=\"userSpaceOnUse\" id=\"ZLdNJdGa8\">\n",
       "<stop offset=\"0\" stop-color=\"#FF8E8F\" />\n",
       "<stop offset=\"1\" stop-color=\"#114232\" />\n",
       "</linearGradient>\n",
       "<linearGradient x1=\"-183.07516794225208\" y1=\"-80.52007751434539\" x2=\"185.21047797583518\" y2=\"75.47899607150768\" gradientUnits=\"userSpaceOnUse\" id=\"ZLdNJdGa9\">\n",
       "<stop offset=\"0\" stop-color=\"#FF8E8F\" />\n",
       "<stop offset=\"1\" stop-color=\"#87A922\" />\n",
       "</linearGradient>\n",
       "<linearGradient x1=\"-171.41355345390443\" y1=\"-103.04073802290745\" x2=\"199.71855692546606\" y2=\"10.606508360877896\" gradientUnits=\"userSpaceOnUse\" id=\"ZLdNJdGa10\">\n",
       "<stop offset=\"0\" stop-color=\"#FF8E8F\" />\n",
       "<stop offset=\"1\" stop-color=\"#D2D180\" />\n",
       "</linearGradient>\n",
       "<linearGradient x1=\"-152.57382443710793\" y1=\"129.310587720552\" x2=\"-119.73050877331343\" y2=\"160.2017642502214\" gradientUnits=\"userSpaceOnUse\" id=\"ZLdNJdGa11\">\n",
       "<stop offset=\"0\" stop-color=\"#FC819E\" />\n",
       "<stop offset=\"1\" stop-color=\"#E178C5\" />\n",
       "</linearGradient>\n",
       "<linearGradient x1=\"-155.91697187591208\" y1=\"125.25932253148284\" x2=\"139.1816100033347\" y2=\"143.6261794969136\" gradientUnits=\"userSpaceOnUse\" id=\"ZLdNJdGa12\">\n",
       "<stop offset=\"0\" stop-color=\"#FC819E\" />\n",
       "<stop offset=\"1\" stop-color=\"#114232\" />\n",
       "</linearGradient>\n",
       "<linearGradient x1=\"-161.05517715569871\" y1=\"118.58005697142546\" x2=\"185.21047797583518\" y2=\"75.47899607150768\" gradientUnits=\"userSpaceOnUse\" id=\"ZLdNJdGa13\">\n",
       "<stop offset=\"0\" stop-color=\"#FC819E\" />\n",
       "<stop offset=\"1\" stop-color=\"#87A922\" />\n",
       "</linearGradient>\n",
       "<linearGradient x1=\"-161.78400448828725\" y1=\"117.58373991217432\" x2=\"199.71855692546606\" y2=\"10.606508360877896\" gradientUnits=\"userSpaceOnUse\" id=\"ZLdNJdGa14\">\n",
       "<stop offset=\"0\" stop-color=\"#FC819E\" />\n",
       "<stop offset=\"1\" stop-color=\"#D2D180\" />\n",
       "</linearGradient>\n",
       "<linearGradient x1=\"112.89344720284704\" y1=\"165.091094789083\" x2=\"135.36191056091738\" y2=\"147.23163100807585\" gradientUnits=\"userSpaceOnUse\" id=\"ZLdNJdGa15\">\n",
       "<stop offset=\"0\" stop-color=\"#E178C5\" />\n",
       "<stop offset=\"1\" stop-color=\"#114232\" />\n",
       "</linearGradient>\n",
       "<linearGradient x1=\"92.2584190130881\" y1=\"177.44966644433418\" x2=\"181.8664833514796\" y2=\"83.21407473117752\" gradientUnits=\"userSpaceOnUse\" id=\"ZLdNJdGa16\">\n",
       "<stop offset=\"0\" stop-color=\"#E178C5\" />\n",
       "<stop offset=\"1\" stop-color=\"#87A922\" />\n",
       "</linearGradient>\n",
       "<linearGradient x1=\"88.30519055114476\" y1=\"179.44969579725125\" x2=\"199.6492876254471\" y2=\"11.83900125228037\" gradientUnits=\"userSpaceOnUse\" id=\"ZLdNJdGa17\">\n",
       "<stop offset=\"0\" stop-color=\"#E178C5\" />\n",
       "<stop offset=\"1\" stop-color=\"#D2D180\" />\n",
       "</linearGradient>\n",
       "<linearGradient x1=\"160.87351565425308\" y1=\"118.82639421038066\" x2=\"170.56171258954706\" y2=\"104.44473274665766\" gradientUnits=\"userSpaceOnUse\" id=\"ZLdNJdGa18\">\n",
       "<stop offset=\"0\" stop-color=\"#114232\" />\n",
       "<stop offset=\"1\" stop-color=\"#87A922\" />\n",
       "</linearGradient>\n",
       "<linearGradient x1=\"160.21930924947193\" y1=\"119.70702963327624\" x2=\"199.33806395338772\" y2=\"16.258421181501866\" gradientUnits=\"userSpaceOnUse\" id=\"ZLdNJdGa19\">\n",
       "<stop offset=\"0\" stop-color=\"#114232\" />\n",
       "<stop offset=\"1\" stop-color=\"#D2D180\" />\n",
       "</linearGradient>\n",
       "<linearGradient x1=\"198.53344678781775\" y1=\"24.17582483698827\" x2=\"199.24588449640245\" y2=\"17.351585266086005\" gradientUnits=\"userSpaceOnUse\" id=\"ZLdNJdGa20\">\n",
       "<stop offset=\"0\" stop-color=\"#87A922\" />\n",
       "<stop offset=\"1\" stop-color=\"#D2D180\" />\n",
       "</linearGradient>\n",
       "</defs>\n",
       "<rect x=\"-250\" y=\"-250\" width=\"500.0\" height=\"500.0\" fill=\"#ffffff\" fill-opacity=\"1.0\" />\n",
       "<path d=\"M200.0,-0.0 A200,200,0,0,0,-44.9914213050194,-194.87373350186076 L-48.14082079637076,-208.514894846991 A214.0,214.0,0,0,1,214.0,-0.0 Z\" fill=\"#891652\" fill-opacity=\"0.9\" />\n",
       "<path d=\"M-46.93787660892593,-194.4140831818653 A200,200,0,0,0,-190.901510811599,59.63734710606231 L-204.26461656841093,63.81196140348667 A214.0,214.0,0,0,1,-50.22352797155075,-208.02306900459587 Z\" fill=\"#FF8E8F\" fill-opacity=\"0.9\" />\n",
       "<path d=\"M-190.29560228404796,61.54334855491239 A200,200,0,0,0,-137.7521746949286,144.9977184883192 L-147.39482692357362,155.14755878250156 A214.0,214.0,0,0,1,-203.61629444393134,65.85138295375626 Z\" fill=\"#FC819E\" fill-opacity=\"0.9\" />\n",
       "<path d=\"M-136.29533412487285,146.36796745117857 A200,200,0,0,0,123.66408932603323,157.18521880623152 L132.32057557885557,168.18818412266774 A214.0,214.0,0,0,1,-145.83600751361396,156.6137251727611 Z\" fill=\"#E178C5\" fill-opacity=\"0.9\" />\n",
       "<path d=\"M125.22973216375026,155.940739328103 A200,200,0,0,0,165.31277913127818,112.56857934562927 L176.88467367046766,120.44837989982334 A214.0,214.0,0,0,1,133.99581341521278,166.85659108107023 Z\" fill=\"#114232\" fill-opacity=\"0.9\" />\n",
       "<path d=\"M166.43018059332192,110.90985072424478 A200,200,0,0,0,198.81261253261943,21.761091377836 L212.7294954099028,23.284367774284522 A214.0,214.0,0,0,1,178.08029323485448,118.67354027494191 Z\" fill=\"#87A922\" fill-opacity=\"0.9\" />\n",
       "<path d=\"M199.02027927177906,19.771910342277792 A200,200,0,0,0,199.99000008333306,1.999966666833872 L213.9893000891664,2.139964333512243 A214.0,214.0,0,0,1,212.9516988208036,21.15594406623724 Z\" fill=\"#D2D180\" fill-opacity=\"0.9\" />\n",
       "<path d=\"M103.278825597151,-168.93041225094217 A198.0,198.0,0,0,0,-44.54150709196921,-192.92499616684213 C-17.816602836787684,-77.16999846673686,-18.58739913713467,-76.98797694001867,-46.468497842836676,-192.46994235004667 A198.0,198.0,0,0,0,-167.93914524607305,-104.88299907048034 C-67.17565809842922,-41.95319962819214,41.3115302388604,-67.57216490037688,103.278825597151,-168.93041225094217 Z\" fill=\"url(#ZLdNJdGa0)\" fill-opacity=\"0.6\" />\n",
       "<path d=\"M125.52531056549185,-153.12542704409617 A198.0,198.0,0,0,0,103.278825597151,-168.93041225094217 C41.3115302388604,-67.57216490037688,-69.86026513725092,37.31197334573721,-174.6506628431273,93.27993336434302 A198.0,198.0,0,0,0,-160.16616444340437,116.40790251305258 C-64.06646577736176,46.56316100522103,50.21012422619674,-61.25017081763847,125.52531056549185,-153.12542704409617 Z\" fill=\"url(#ZLdNJdGa1)\" fill-opacity=\"0.6\" />\n",
       "<path d=\"M192.03090235375336,-48.25072581011866 A198.0,198.0,0,0,0,125.52531056549185,-153.12542704409617 C50.21012422619674,-61.25017081763847,-14.23035813881544,77.91108334018371,-35.575895347038596,194.77770835045925 A198.0,198.0,0,0,0,87.42213864563331,177.65519883927874 C34.96885545825332,71.0620795357115,76.81236094150135,-19.300290324047467,192.03090235375336,-48.25072581011866 Z\" fill=\"url(#ZLdNJdGa2)\" fill-opacity=\"0.6\" />\n",
       "<path d=\"M195.3121880987468,-32.51383059683615 A198.0,198.0,0,0,0,192.03090235375336,-48.25072581011866 C76.81236094150135,-19.300290324047467,59.39224753452778,52.39466511771384,148.48061883631945,130.9866627942846 A198.0,198.0,0,0,0,158.61711615697723,118.50995933694348 C63.446846462790894,47.4039837347774,78.12487523949872,-13.00553223873446,195.3121880987468,-32.51383059683615 Z\" fill=\"url(#ZLdNJdGa3)\" fill-opacity=\"0.6\" />\n",
       "<path d=\"M197.93286542329915,-5.155655663652038 A198.0,198.0,0,0,0,195.3121880987468,-32.51383059683615 C78.12487523949872,-13.00553223873446,76.53620839246696,20.367837511745567,191.3405209811674,50.919593779363915 A198.0,198.0,0,0,0,196.54811231993958,23.934066588618386 C78.61924492797584,9.573626635447354,79.17314616931966,-2.062262265460815,197.93286542329915,-5.155655663652038 Z\" fill=\"url(#ZLdNJdGa4)\" fill-opacity=\"0.6\" />\n",
       "<path d=\"M198.0,-0.0 A198.0,198.0,0,0,0,197.93286542329915,-5.155655663652038 C79.17314616931966,-2.062262265460815,79.14856526605394,2.8538774194418326,197.87141316513484,7.134693548604581 A198.0,198.0,0,0,0,197.9901000824997,1.9799670001655334 C79.19604003299989,0.7919868000662134,79.2,-0.0,198.0,-0.0 Z\" fill=\"url(#ZLdNJdGa5)\" fill-opacity=\"0.6\" />\n",
       "<path d=\"M-196.45426967348337,24.692507508519117 A198.0,198.0,0,0,0,-188.992495703483,59.040973635001684 C-75.5969982813932,23.616389454000675,-75.35705850448299,24.371166027745307,-188.3926462612075,60.927915069363266 A198.0,198.0,0,0,0,-174.6506628431273,93.27993336434302 C-69.86026513725092,37.31197334573721,-78.58170786939336,9.877003003407648,-196.45426967348337,24.692507508519117 Z\" fill=\"url(#ZLdNJdGa6)\" fill-opacity=\"0.6\" />\n",
       "<path d=\"M-186.91986673832892,-65.30668739513095 A198.0,198.0,0,0,0,-196.45426967348337,24.692507508519117 C-78.58170786939336,9.877003003407648,-47.41328147423212,63.43989864308767,-118.5332036855803,158.59974660771917 A198.0,198.0,0,0,0,-35.575895347038596,194.77770835045925 C-14.23035813881544,77.91108334018371,-74.76794669533157,-26.122674958052382,-186.91986673832892,-65.30668739513095 Z\" fill=\"url(#ZLdNJdGa7)\" fill-opacity=\"0.6\" />\n",
       "<path d=\"M-181.24441626282956,-79.71487673920194 A198.0,198.0,0,0,0,-186.91986673832892,-65.30668739513095 C-74.76794669533157,-26.122674958052382,55.115917561320536,56.87596708077779,137.78979390330133,142.18991770194447 A198.0,198.0,0,0,0,148.48061883631945,130.9866627942846 C59.39224753452778,52.39466511771384,-72.49776650513182,-31.885950695680776,-181.24441626282956,-79.71487673920194 Z\" fill=\"url(#ZLdNJdGa8)\" fill-opacity=\"0.6\" />\n",
       "<path d=\"M-169.6994179193654,-102.01033064267838 A198.0,198.0,0,0,0,-181.24441626282956,-79.71487673920194 C-72.49776650513182,-31.885950695680776,73.34334927843074,29.889682444317046,183.35837319607683,74.72420611079261 A198.0,198.0,0,0,0,191.3405209811674,50.919593779363915 C76.53620839246696,20.367837511745567,-67.87976716774617,-40.80413225707136,-169.6994179193654,-102.01033064267838 Z\" fill=\"url(#ZLdNJdGa9)\" fill-opacity=\"0.6\" />\n",
       "<path d=\"M-167.93914524607305,-104.88299907048034 A198.0,198.0,0,0,0,-169.6994179193654,-102.01033064267838 C-67.87976716774617,-40.80413225707136,79.08854854248456,4.200177310907647,197.7213713562114,10.500443277269117 A198.0,198.0,0,0,0,197.87141316513484,7.134693548604581 C79.14856526605394,2.8538774194418326,-67.17565809842922,-41.95319962819214,-167.93914524607305,-104.88299907048034 Z\" fill=\"url(#ZLdNJdGa10)\" fill-opacity=\"0.6\" />\n",
       "<path d=\"M-151.04808619273683,128.01748184334647 A198.0,198.0,0,0,0,-136.37465294797934,143.54774130343603 C-54.54986117919174,57.419096521374414,-53.97295231344965,57.96171511066672,-134.93238078362413,144.9042877766668 A198.0,198.0,0,0,0,-118.5332036855803,158.59974660771917 C-47.41328147423212,63.43989864308767,-60.41923447709473,51.206992737338595,-151.04808619273683,128.01748184334647 Z\" fill=\"url(#ZLdNJdGa11)\" fill-opacity=\"0.6\" />\n",
       "<path d=\"M-154.35780215715295,124.00672930616801 A198.0,198.0,0,0,0,-151.04808619273683,128.01748184334647 C-60.41923447709473,51.206992737338595,53.603316582123284,58.30372587919805,134.0082914553082,145.7593146979951 A198.0,198.0,0,0,0,137.78979390330133,142.18991770194447 C55.115917561320536,56.87596708077779,-61.74312086286118,49.602691722467206,-154.35780215715295,124.00672930616801 Z\" fill=\"url(#ZLdNJdGa12)\" fill-opacity=\"0.6\" />\n",
       "<path d=\"M-159.44462538414172,117.3942564017112 A198.0,198.0,0,0,0,-154.35780215715295,124.00672930616801 C-61.74312086286118,49.602691722467206,72.01912740718592,32.952773593546304,180.0478185179648,82.38193398386575 A198.0,198.0,0,0,0,183.35837319607683,74.72420611079261 C73.34334927843074,29.889682444317046,-63.777850153656686,46.95770256068448,-159.44462538414172,117.3942564017112 Z\" fill=\"url(#ZLdNJdGa13)\" fill-opacity=\"0.6\" />\n",
       "<path d=\"M-160.16616444340437,116.40790251305258 A198.0,198.0,0,0,0,-159.44462538414172,117.3942564017112 C-63.777850153656686,46.95770256068448,79.06111789967706,4.688244495903027,197.65279474919262,11.720611239757567 A198.0,198.0,0,0,0,197.7213713562114,10.500443277269117 C79.08854854248456,4.200177310907647,-64.06646577736176,46.56316100522103,-160.16616444340437,116.40790251305258 Z\" fill=\"url(#ZLdNJdGa14)\" fill-opacity=\"0.6\" />\n",
       "<path d=\"M111.76451273081857,163.44018384119218 A198.0,198.0,0,0,0,122.4274484327729,155.61336661816918 C48.97097937310917,62.245346647267674,49.5909739368451,61.7525327739288,123.97743484211276,154.381331934822 A198.0,198.0,0,0,0,134.0082914553082,145.7593146979951 C53.603316582123284,58.30372587919805,44.70580509232743,65.37607353647688,111.76451273081857,163.44018384119218 Z\" fill=\"url(#ZLdNJdGa15)\" fill-opacity=\"0.6\" />\n",
       "<path d=\"M91.33583482295722,175.67516977989087 A198.0,198.0,0,0,0,111.76451273081857,163.44018384119218 C44.70580509232743,65.37607353647688,67.54243818546064,41.36011416767644,168.8560954636516,103.40028541919109 A198.0,198.0,0,0,0,180.0478185179648,82.38193398386575 C72.01912740718592,32.952773593546304,36.53433392918289,70.27006791195635,91.33583482295722,175.67516977989087 Z\" fill=\"url(#ZLdNJdGa16)\" fill-opacity=\"0.6\" />\n",
       "<path d=\"M87.42213864563331,177.65519883927874 A198.0,198.0,0,0,0,91.33583482295722,175.67516977989087 C36.53433392918289,70.27006791195635,78.93787332554155,6.438334787874739,197.34468331385384,16.095836969686847 A198.0,198.0,0,0,0,197.65279474919262,11.720611239757567 C79.06111789967706,4.688244495903027,34.96885545825332,71.0620795357115,87.42213864563331,177.65519883927874 Z\" fill=\"url(#ZLdNJdGa17)\" fill-opacity=\"0.6\" />\n",
       "<path d=\"M159.26478049771057,117.63813026827685 A198.0,198.0,0,0,0,163.6596513399654,111.44289355217298 C65.46386053598616,44.57715742086919,65.90635151495547,43.92030088680093,164.7658787873887,109.80075221700233 A198.0,198.0,0,0,0,168.8560954636516,103.40028541919109 C67.54243818546064,41.36011416767644,63.70591219908423,47.05525210731074,159.26478049771057,117.63813026827685 Z\" fill=\"url(#ZLdNJdGa18)\" fill-opacity=\"0.6\" />\n",
       "<path d=\"M158.61711615697723,118.50995933694348 A198.0,198.0,0,0,0,159.26478049771057,117.63813026827685 C63.70591219908423,47.05525210731074,78.90137026057539,6.871227765370058,197.25342565143845,17.178069413425145 A198.0,198.0,0,0,0,197.34468331385384,16.095836969686847 C78.93787332554155,6.438334787874739,63.446846462790894,47.4039837347774,158.61711615697723,118.50995933694348 Z\" fill=\"url(#ZLdNJdGa19)\" fill-opacity=\"0.6\" />\n",
       "<path d=\"M196.54811231993958,23.934066588618386 A198.0,198.0,0,0,0,196.82448640729325,21.54348046405764 C78.7297945629173,8.617392185623057,78.8120305916245,7.829676495542007,197.03007647906125,19.574191238855015 A198.0,198.0,0,0,0,197.25342565143845,17.178069413425145 C78.90137026057539,6.871227765370058,78.61924492797584,9.573626635447354,196.54811231993958,23.934066588618386 Z\" fill=\"url(#ZLdNJdGa20)\" fill-opacity=\"0.6\" />\n",
       "<text x=\"220.00000000000003\" y=\"0\" font-size=\"10\" text-anchor=\"start\" dominant-baseline=\"middle\" transform=\"rotate(-51.500178)\" font-family=\"Arial\">CGMR</text>\n",
       "<text x=\"-220.00000000000003\" y=\"0\" font-size=\"10\" text-anchor=\"end\" dominant-baseline=\"middle\" transform=\"rotate(29.538980)\" font-family=\"Arial\">Hadza</text>\n",
       "<text x=\"-220.00000000000006\" y=\"0\" font-size=\"10\" text-anchor=\"end\" dominant-baseline=\"middle\" transform=\"rotate(-32.194792)\" font-family=\"Arial\">Ancient-human-gut</text>\n",
       "<text x=\"-220.00000000000003\" y=\"0\" font-size=\"10\" text-anchor=\"end\" dominant-baseline=\"middle\" transform=\"rotate(-87.617222)\" font-family=\"Arial\">MGnify-human-gut</text>\n",
       "<text x=\"220.00000000000003\" y=\"0\" font-size=\"10\" text-anchor=\"start\" dominant-baseline=\"middle\" transform=\"rotate(-317.256957)\" font-family=\"Arial\">Cow-rumen</text>\n",
       "<text x=\"220.00000000000006\" y=\"0\" font-size=\"10\" text-anchor=\"start\" dominant-baseline=\"middle\" transform=\"rotate(-340.036933)\" font-family=\"Arial\">Pig-gut</text>\n",
       "<text x=\"220.00000000000006\" y=\"0\" font-size=\"10\" text-anchor=\"start\" dominant-baseline=\"middle\" transform=\"rotate(-356.876770)\" font-family=\"Arial\">Fish-gut</text>\n",
       "</svg>"
      ],
      "text/plain": [
       "<drawsvg.drawing.Drawing at 0x7e1aa79f79d0>"
      ]
     },
     "execution_count": 25,
     "metadata": {},
     "output_type": "execute_result"
    }
   ],
   "source": [
    "import openchord as ocd\n",
    "\n",
    "fig = ocd.Chord(matrix, gut_order)\n",
    "fig.show()\n",
    "\n",
    "color_lst2 = [ label2color[x] for x in gut_order ]\n",
    "\n",
    "fig.colormap = color_lst2\n",
    "fig.save_svg('AMPs.svg')\n",
    "fig.show()"
   ]
  },
  {
   "cell_type": "code",
   "execution_count": 26,
   "metadata": {},
   "outputs": [
    {
     "name": "stdout",
     "output_type": "stream",
     "text": [
      "CGMR\n",
      "107189\n",
      "40.47\n",
      "Hadza\n",
      "92606\n",
      "39.93\n",
      "Ancient-human-gut\n",
      "20178\n",
      "44.83\n",
      "MGnify-human-gut\n",
      "75618\n",
      "52.33\n",
      "Cow-rumen\n",
      "12345\n",
      "15.82\n",
      "Pig-gut\n",
      "19081\n",
      "47.04\n",
      "Fish-gut\n",
      "3409\n",
      "30.11\n"
     ]
    }
   ],
   "source": [
    "def count_shared_amp(ord, gut_order=gut_order, gut_dict=gut_dict):\n",
    "    num = 0\n",
    "    lst = gut_dict[ord]\n",
    "    other_lst = set()\n",
    "    for x in gut_order:\n",
    "        if x != ord:\n",
    "            other_lst = other_lst.union(set(gut_dict[x]))\n",
    "    for x in lst:\n",
    "        if x in other_lst:\n",
    "            num += 1\n",
    "    return num\n",
    "            \n",
    "\n",
    "for i in range(len(gut_order)):\n",
    "    print(gut_order[i])\n",
    "    num = count_shared_amp(gut_order[i])\n",
    "    x_total = len(gut_dict[gut_order[i]])\n",
    "    print(num)\n",
    "    print(round(100*num/x_total,2))"
   ]
  },
  {
   "cell_type": "code",
   "execution_count": null,
   "metadata": {},
   "outputs": [],
   "source": [
    "bpath = '/mnt/asustor/wenhui.li/02.AMP/data/AMP_with_MIC'\n",
    "\n",
    "neg_df = pd.read_csv(os.path.join(bpath, 'neg.cdhit90.tab2'), sep='\\t', header=None)\n",
    "neg_df.columns = ['ID','Len']\n",
    "neg_df['Flag'] = 'Neg'\n",
    "\n",
    "pos1_df = pd.read_csv(os.path.join(bpath, 'pos.all.tab2'), sep='\\t', header=None)\n",
    "pos1_df.columns = ['ID','Len']\n",
    "pos1_df['Flag'] = 'Pos'\n",
    "\n",
    "pos2_df = pd.read_csv(os.path.join(bpath, 'pos_pro.all.tab2'), sep='\\t', header=None)\n",
    "pos2_df.columns = ['ID','Len']\n",
    "pos2_df['Flag'] = 'Pos'"
   ]
  },
  {
   "cell_type": "code",
   "execution_count": 99,
   "metadata": {},
   "outputs": [
    {
     "data": {
      "image/png": "[encoded data removed]",
      "text/plain": [
       "<Figure size 600x400 with 1 Axes>"
      ]
     },
     "metadata": {},
     "output_type": "display_data"
    }
   ],
   "source": [
    "import matplotlib\n",
    "import matplotlib.pyplot as plt\n",
    "import seaborn as sns\n",
    "\n",
    "def hex_to_rgb(value,opacity=0.2):\n",
    "    value = value.lstrip('#')\n",
    "    lv = len(value)\n",
    "    (r,g,b) = tuple(int(value[i:i + lv // 3], 16) for i in range(0, lv, lv // 3))\n",
    "    code = 'rgba(%d,%d,%d,%.1f)' % (r,g,b,opacity)\n",
    "    return code\n",
    "\n",
    "\n",
    "palette = {'Neg':'#FFEB00', 'Pos':'#1230AE'}\n",
    "tdata = pd.concat([pos1_df, neg_df], ignore_index=True)\n",
    "fig = plt.figure(figsize=(6,4))\n",
    "sns.histplot(data=tdata, x='Len',hue='Flag',\n",
    "             hue_order=['Pos','Neg'] ,multiple='layer',\n",
    "             bins=80,\n",
    "            #  bw_adjust=.2,\n",
    "             common_norm=True, fill=True,\n",
    "             alpha=0.6, linewidth=0.1, palette=palette,)\n",
    "plt.xlim(0,300)\n",
    "plt.ylim(0,60000)\n",
    "plt.savefig('Data_distribution.bg1.pdf',format='pdf')"
   ]
  },
  {
   "cell_type": "code",
   "execution_count": 105,
   "metadata": {},
   "outputs": [
    {
     "data": {
      "image/png": "[encoded data removed]",
      "text/plain": [
       "<Figure size 600x400 with 1 Axes>"
      ]
     },
     "metadata": {},
     "output_type": "display_data"
    }
   ],
   "source": [
    "tdata = pd.concat([pos1_df, neg_df], ignore_index=True)\n",
    "fig = plt.figure(figsize=(6,4))\n",
    "sns.histplot(data=tdata[tdata.Flag=='Pos'], x='Len',hue='Flag',\n",
    "            #  hue_order=['Pos','Neg'] ,multiple='layer',\n",
    "             bins=80,\n",
    "            #  bw_adjust=.2,\n",
    "             common_norm=True, fill=True,\n",
    "             alpha=0.6, linewidth=0.1, palette=palette,)\n",
    "plt.xlim(0,300)\n",
    "plt.ylim(0,1000)\n",
    "plt.savefig('Data_distribution.fg1.pdf',format='pdf')"
   ]
  },
  {
   "cell_type": "code",
   "execution_count": 101,
   "metadata": {},
   "outputs": [
    {
     "data": {
      "image/png": "[encoded data removed]",
      "text/plain": [
       "<Figure size 600x400 with 1 Axes>"
      ]
     },
     "metadata": {},
     "output_type": "display_data"
    }
   ],
   "source": [
    "tdata = pd.concat([pos2_df, neg_df], ignore_index=True)\n",
    "\n",
    "fig = plt.figure(figsize=(6,4))\n",
    "sns.histplot(data=tdata, x='Len',hue='Flag',\n",
    "             hue_order=['Pos','Neg'] ,multiple='layer',\n",
    "             bins=80,\n",
    "            #  bw_adjust=.2,\n",
    "             common_norm=True, fill=True,\n",
    "             alpha=0.6, linewidth=0.1, palette=palette,)\n",
    "plt.xlim(0,300)\n",
    "plt.ylim(0,60000)\n",
    "plt.savefig('Data_distribution.bg2.pdf',format='pdf')"
   ]
  },
  {
   "cell_type": "code",
   "execution_count": 107,
   "metadata": {},
   "outputs": [
    {
     "data": {
      "image/png": "[encoded data removed]",
      "text/plain": [
       "<Figure size 600x400 with 1 Axes>"
      ]
     },
     "metadata": {},
     "output_type": "display_data"
    }
   ],
   "source": [
    "tdata = pd.concat([pos2_df, neg_df], ignore_index=True)\n",
    "fig = plt.figure(figsize=(6,4))\n",
    "sns.histplot(data=tdata[tdata.Flag=='Pos'], x='Len',hue='Flag',\n",
    "            #  hue_order=['Pos','Neg'] ,multiple='layer',\n",
    "             bins=80,\n",
    "            #  bw_adjust=.2,\n",
    "             common_norm=True, fill=True,\n",
    "             alpha=0.6, linewidth=0.1, palette=palette,)\n",
    "plt.xlim(0,300)\n",
    "plt.ylim(0,1000)\n",
    "plt.savefig('Data_distribution.fg2.pdf',format='pdf')"
   ]
  },
  {
   "cell_type": "code",
   "execution_count": 114,
   "metadata": {},
   "outputs": [],
   "source": [
    "xdata = pd.read_csv('/mnt/asustor/wenhui.li/02.AMP/predict/outputs/Token_650M_epoch15/rmdup.animal.clst90_80.AMPclst95.eggnog.txt',sep='\\t')\n",
    "xdata = xdata[['AMP_clst','Pro_clst80','Pro_clst','Source','ProID','AMPID',\n",
    "               'AMP','AMPlen','Position','Sequence','ID',]]"
   ]
  },
  {
   "cell_type": "code",
   "execution_count": 117,
   "metadata": {},
   "outputs": [
    {
     "data": {
      "text/plain": [
       "0               ancient_human_gut\n",
       "52036              BGI_human_oral\n",
       "139943                  data_CGMR\n",
       "698532                 data_Hadza\n",
       "1185203          MGnify_cow_rumen\n",
       "1274618           MGnify_fish_gut\n",
       "1280712          MGnify_human_gut\n",
       "1457816         MGnify_human_oral\n",
       "1472576            MGnify_pig_gut\n",
       "1516944    MGnify_zibrafish_fecal\n",
       "Name: Source, dtype: object"
      ]
     },
     "execution_count": 117,
     "metadata": {},
     "output_type": "execute_result"
    }
   ],
   "source": [
    "xdata.Source.drop_duplicates()"
   ]
  },
  {
   "cell_type": "code",
   "execution_count": 121,
   "metadata": {},
   "outputs": [],
   "source": [
    "MGnify_df_lst = []\n",
    "\n",
    "def get_7_layers_lineage(df):\n",
    "    d, p, c, o, f, g, s = [], [], [], [], [], [], []\n",
    "    for i in df.Lineage.tolist():\n",
    "        if i == 'NoData':\n",
    "            d.append('-')\n",
    "            p.append('-')\n",
    "            c.append('-')\n",
    "            o.append('-')\n",
    "            f.append('-')\n",
    "            g.append('-')\n",
    "            s.append('-')\n",
    "        else:\n",
    "            for x in i.split(';'):\n",
    "                y = re.sub('.__','',x) if re.sub('.__','',x) != '' else '-'\n",
    "                if x.startswith('d__'):\n",
    "                    d.append(y)\n",
    "                elif x.startswith('p__'):\n",
    "                    p.append(y)\n",
    "                elif x.startswith('c__'):\n",
    "                    c.append(y)\n",
    "                elif x.startswith('o__'):\n",
    "                    o.append(y)\n",
    "                elif x.startswith('f__'):\n",
    "                    f.append(y)\n",
    "                elif x.startswith('g__'):\n",
    "                    g.append(y)\n",
    "                elif x.startswith('s__'):\n",
    "                    s.append(y)\n",
    "    df['domain'] = d\n",
    "    df['phyla'] = p\n",
    "    df['class'] = c\n",
    "    df['order'] = o\n",
    "    df['family'] = f\n",
    "    df['genera'] = g\n",
    "    df['species'] = s\n",
    "    return df\n",
    "\n",
    "def combine_info(meta_file,input_df):\n",
    "    \n",
    "    meta = pd.read_csv(meta_file,sep='\\t')\n",
    "    taxon_dict = dict(zip(meta.Genome.tolist(), meta.Lineage.tolist()))\n",
    "    \n",
    "    target = input_df.copy(deep=True)\n",
    "    target['Genome'] = [ x.split('@')[0] for x in target.ProID.tolist() ]\n",
    "    target['Lineage'] = [ taxon_dict[x] if x in taxon_dict.keys() else 'NoData' for x in target['Genome'].tolist() ]    \n",
    "    target = get_7_layers_lineage(target)\n",
    "    \n",
    "    return target\n",
    "\n",
    "mgnify_dict = {\n",
    "    'MGnify_cow_rumen':'Candidates_rmdup/ALL_pep/MGnify_cow_rumen/genomes-all_metadata.1.0.1.tsv',\n",
    "    'MGnify_fish_gut':'Candidates_rmdup/ALL_pep/MGnify_fish_gut/genomes-all_metadata.2.0.tsv',\n",
    "    'MGnify_human_gut':'Candidates_rmdup/ALL_pep/MGnify_human_gut/genomes-all_metadata.tsv',\n",
    "    'MGnify_human_oral':'Candidates_rmdup/ALL_pep/MGnify_human_oral/genomes-all_metadata.1.0.1.tsv',\n",
    "    'MGnify_marine':'Candidates_rmdup/ALL_pep/MGnify_marine/genomes-all_metadata.2.0.tsv',\n",
    "    'MGnify_pig_gut':'Candidates_rmdup/ALL_pep/MGnify_pig_gut/genomes-all_metadata.tsv',\n",
    "    'MGnify_zibrafish_fecal':'Candidates_rmdup/ALL_pep/MGnify_zibrafish_fecal/genomes-all_metadata.tsv',\n",
    "}\n",
    "\n",
    "for name, meta in mgnify_dict.items():\n",
    "    target = combine_info(meta,xdata[xdata.Source==name])\n",
    "    if target.shape[0] > 0:\n",
    "        MGnify_df_lst.append(target)\n",
    "    "
   ]
  },
  {
   "cell_type": "code",
   "execution_count": 194,
   "metadata": {},
   "outputs": [],
   "source": [
    "Ancient_df_lst = []\n",
    "\n",
    "def get_7_layers_lineage_ancient_human_gut(df):\n",
    "    d, p, c, o, f, g, s = [], [], [], [], [], [], []\n",
    "    for i in df.Lineage.tolist():\n",
    "        if ('Unclassified' in i) or (i == 'NoData'):\n",
    "            d.append('-')\n",
    "            p.append('-')\n",
    "            c.append('-')\n",
    "            o.append('-')\n",
    "            f.append('-')\n",
    "            g.append('-')\n",
    "            s.append('-')\n",
    "        else:\n",
    "            for x in i.split(';'):\n",
    "                y = re.sub('.__','',x) if re.sub('.__','',x) != '' else '-'\n",
    "                if x.startswith('d__'):\n",
    "                    d.append(y)\n",
    "                elif x.startswith('p__'):\n",
    "                    p.append(y)\n",
    "                elif x.startswith('c__'):\n",
    "                    c.append(y)\n",
    "                elif x.startswith('o__'):\n",
    "                    o.append(y)\n",
    "                elif x.startswith('f__'):\n",
    "                    f.append(y)\n",
    "                elif x.startswith('g__'):\n",
    "                    g.append(y)\n",
    "                elif x.startswith('s__'):\n",
    "                    s.append(y)\n",
    "    df['domain'] = d\n",
    "    df['phyla'] = p\n",
    "    df['class'] = c\n",
    "    df['order'] = o\n",
    "    df['family'] = f\n",
    "    df['genera'] = g\n",
    "    df['species'] = s\n",
    "    return df\n",
    "\n",
    "def combine_info_ancient_human_gut(meta_file,input_df):\n",
    "    \n",
    "    meta = pd.read_csv(meta_file,sep='\\t')\n",
    "    taxon_dict = dict(zip(meta.contigid.tolist(), meta.classification.tolist()))\n",
    "    \n",
    "    target = input_df.copy(deep=True)\n",
    "    target['Genome'] = [ re.sub('_\\d+$','',x.split('.')[-1]) for x in target.ProID.tolist() ]\n",
    "    target['Lineage'] = [ taxon_dict[x] if x in taxon_dict.keys() else 'NoData' for x in target['Genome'].tolist() ]    \n",
    "    target = get_7_layers_lineage_ancient_human_gut(target)\n",
    "    \n",
    "    return target\n",
    "\n",
    "ancient_dict = {\n",
    "    'AZ107': 'Candidates_rmdup/ALL_pep/ancient_human_gut/AZ107.taxon_classsification.txt',\n",
    "    'AZ108': 'Candidates_rmdup/ALL_pep/ancient_human_gut/AZ108.taxon_classsification.txt',\n",
    "    'AZ110A': 'Candidates_rmdup/ALL_pep/ancient_human_gut/AZ110A.taxon_classsification.txt',\n",
    "    'UT30': 'Candidates_rmdup/ALL_pep/ancient_human_gut/UT30.3.taxon_classsification.txt',\n",
    "    'UT43': 'Candidates_rmdup/ALL_pep/ancient_human_gut/UT43.2.taxon_classsification.txt',\n",
    "    'Zape1': 'Candidates_rmdup/ALL_pep/ancient_human_gut/Zape1.taxon_classsification.txt',\n",
    "    'Zape2': 'Candidates_rmdup/ALL_pep/ancient_human_gut/Zape2.taxon_classsification.txt',\n",
    "    'Zape3': 'Candidates_rmdup/ALL_pep/ancient_human_gut/Zape3.taxon_classsification.txt',\n",
    "}\n",
    "\n",
    "adata = xdata[xdata.Source=='ancient_human_gut'].copy(deep=True)\n",
    "adata['Sample'] = [ x.split('_')[0].split('.')[0] for x in adata.ProID.tolist() ]\n",
    "for k, df in adata.groupby(by='Sample'):\n",
    "    target = combine_info_ancient_human_gut(ancient_dict[k],df)\n",
    "    if target.shape[0] > 0:\n",
    "        Ancient_df_lst.append(target)\n",
    "        "
   ]
  },
  {
   "cell_type": "code",
   "execution_count": 125,
   "metadata": {},
   "outputs": [],
   "source": [
    "def get_7_layers_CGMR(df):\n",
    "    d, p, c, o, f, g, s = [], [], [], [], [], [], []\n",
    "    for i in df.Lineage.tolist():\n",
    "        if ('Unclassified' in i) or (i == 'NoData'):\n",
    "            d.append('-')\n",
    "            p.append('-')\n",
    "            c.append('-')\n",
    "            o.append('-')\n",
    "            f.append('-')\n",
    "            g.append('-')\n",
    "            s.append('-')\n",
    "        else:\n",
    "            for x in i.split(';'):\n",
    "                y = re.sub('.__','',x) if re.sub('.__','',x) != '' else '-'\n",
    "                if x.startswith('d__'):\n",
    "                    d.append(y)\n",
    "                elif x.startswith('p__'):\n",
    "                    p.append(y)\n",
    "                elif x.startswith('c__'):\n",
    "                    c.append(y)\n",
    "                elif x.startswith('o__'):\n",
    "                    o.append(y)\n",
    "                elif x.startswith('f__'):\n",
    "                    f.append(y)\n",
    "                elif x.startswith('g__'):\n",
    "                    g.append(y)\n",
    "                elif x.startswith('s__'):\n",
    "                    s.append(y)\n",
    "    df['domain'] = d\n",
    "    df['phyla'] = p\n",
    "    df['class'] = c\n",
    "    df['order'] = o\n",
    "    df['family'] = f\n",
    "    df['genera'] = g\n",
    "    df['species'] = s\n",
    "    return df\n",
    "\n",
    "def get_clust(proid):\n",
    "    geno_id = '-'\n",
    "    if proid.startswith('Cluster'):\n",
    "        geno_id = proid.split('_')[0]\n",
    "    elif proid.startswith('cluster_'):\n",
    "        geno_id = re.findall(r'cluster_(\\d+_\\d+)_contig',proid)[0]\n",
    "    return geno_id\n",
    "        \n",
    "\n",
    "def combine_info_CGMR(meta_file,input_df):\n",
    "    \n",
    "    meta = pd.read_csv(meta_file,sep='\\t')\n",
    "    taxon_dict = dict(zip(meta.cluster.tolist(), meta.classification.tolist()))\n",
    "    \n",
    "    target = input_df.copy(deep=True)\n",
    "    target['Genome'] = [ get_clust(x) for x in target.ProID.tolist() ]\n",
    "    target['Lineage'] = [ taxon_dict[x] if x in taxon_dict.keys() else 'NoData' for x in target['Genome'].tolist() ]    \n",
    "    target = get_7_layers_CGMR(target)\n",
    "    \n",
    "    return target\n",
    "\n",
    "CGMR_meta = 'Candidates_rmdup/ALL_pep/data_CGMR/CGMR_data.cluster.meta.txt'\n",
    "\n",
    "CGMR_df = combine_info_CGMR(CGMR_meta, xdata[xdata.Source=='data_CGMR'])"
   ]
  },
  {
   "cell_type": "code",
   "execution_count": 127,
   "metadata": {},
   "outputs": [
    {
     "name": "stderr",
     "output_type": "stream",
     "text": [
      "/tmp/ipykernel_1865338/1283784207.py:33: DtypeWarning: Columns (10,24,33,34) have mixed types. Specify dtype option on import or set low_memory=False.\n",
      "  meta = pd.read_csv(meta_file,sep='\\t')\n",
      "/tmp/ipykernel_1865338/1283784207.py:35: FutureWarning: Setting an item of incompatible dtype is deprecated and will raise an error in a future version of pandas. Value 'NoData' has dtype incompatible with float64, please explicitly cast to a compatible dtype first.\n",
      "  meta.fillna('NoData',inplace=True)\n"
     ]
    }
   ],
   "source": [
    "def get_7_layers_Hadza(df):\n",
    "    info = dict(zip(list(range(7)), [[], [], [], [], [], [], []]))\n",
    "    for i in df.Lineage.tolist():\n",
    "        if ('Unclassified' in i) or (i == 'NoData'):\n",
    "            for k in list(range(7)):\n",
    "                info[k].append('-')\n",
    "        else:\n",
    "            i = i.split()[0]\n",
    "            xs = i.split(';')\n",
    "            for k in range(7):\n",
    "                x = xs[k]\n",
    "                if x == 'unk':\n",
    "                    y = '-'\n",
    "                else:\n",
    "                    y = re.sub('.__','',x) if re.sub('.__','',x) != '' else '-'\n",
    "                info[k].append(y)\n",
    "                \n",
    "    df['domain'] = info[0]\n",
    "    df['phyla'] = info[1]\n",
    "    df['class'] = info[2]\n",
    "    df['order'] = info[3]\n",
    "    df['family'] = info[4]\n",
    "    df['genera'] = info[5]\n",
    "    df['species'] = info[6]\n",
    "    return df\n",
    "\n",
    "def combine_info_Hadza(meta_file,genome_file,input_df): \n",
    "    \n",
    "    genome = pd.read_csv(genome_file, sep='\\t', header=None)\n",
    "    genome.columns = ['Genome','ORF']\n",
    "    genome_dict = dict(zip( genome['ORF'].tolist(),genome['Genome'].tolist()))\n",
    "    \n",
    "    meta = pd.read_csv(meta_file,sep='\\t')\n",
    "    meta['Genome'] = [ re.sub('.fa$','',x) for x in meta['Genome'].tolist() ]\n",
    "    meta.fillna('NoData',inplace=True)\n",
    "    taxon_dict = dict(zip(meta.Genome.tolist(), meta.classification.tolist()))\n",
    "    \n",
    "    target = input_df.copy(deep=True)\n",
    "    target['Genome'] = [ genome_dict[x] if x in genome_dict.keys() else 'NoData' for x in target.ProID.tolist() ]\n",
    "    target['Lineage'] = [ taxon_dict[x] if x in taxon_dict.keys() else 'NoData' for x in target['Genome'].tolist() ]    \n",
    "    target = get_7_layers_Hadza(target)\n",
    "    \n",
    "    return target, taxon_dict, genome_dict\n",
    "\n",
    "Hadza_meta = 'Candidates_rmdup/ALL_pep/data_Hadza/Hazda_BacteriaArchaea_ORFs.meta.txt'\n",
    "Hadza_genome = 'Candidates_rmdup/ALL_pep/data_Hadza/Hazda_BacteriaArchaea_ORFs.meta.genome.tab'\n",
    "\n",
    "Hadza_df = combine_info_Hadza(Hadza_meta,Hadza_genome,xdata[xdata.Source=='data_Hadza'])"
   ]
  },
  {
   "cell_type": "code",
   "execution_count": 196,
   "metadata": {},
   "outputs": [],
   "source": [
    "ydata = pd.concat(MGnify_df_lst+Ancient_df_lst+[CGMR_df, Hadza_df[0]], ignore_index=True)\n",
    "ydata.to_csv('rmdup.animal.clst90_80.AMPclst95.eggnog.meta.txt',sep='\\t',index=False)"
   ]
  },
  {
   "cell_type": "code",
   "execution_count": 220,
   "metadata": {},
   "outputs": [],
   "source": [
    "set_lst = ['CGMR', 'Hadza', 'Ancient_human_gut', 'MGnify_human_gut',\n",
    "           'Cow_rumen', 'Pig_gut', 'Fish_gut']\n",
    "\n",
    "set_dict = {\n",
    "    'data_CGMR': 'CGMR',\n",
    "    'data_Hadza': 'Hadza',\n",
    "    'ancient_human_gut': 'Ancient_human_gut',\n",
    "    'MGnify_human_gut': 'MGnify_human_gut',\n",
    "    'MGnify_cow_rumen': 'Cow_rumen',\n",
    "    'MGnify_pig_gut': 'Pig_gut',\n",
    "    'MGnify_fish_gut': 'Fish_gut',\n",
    "    'MGnify_zibrafish_fecal': 'Fish_gut',\n",
    "}\n",
    "\n",
    "def count_linages(in_dict,set_lst=set_lst,set_dict=set_dict ):\n",
    "    counts = {}\n",
    "    type_counts = {}\n",
    "    \n",
    "    for n in set_dict.keys():\n",
    "        if n in in_dict.keys():\n",
    "            for k, c in in_dict.items():\n",
    "                if k in set_dict.keys():\n",
    "                    kn = set_dict[k]\n",
    "                    for x, v in in_dict[k].items():\n",
    "                        x = x.split('_')[0]\n",
    "                        if x == 'Bacillota':\n",
    "                            x = 'Firmicutes'\n",
    "                        if not kn in counts.keys():\n",
    "                            counts[kn] = {}\n",
    "                        if not x in counts[kn].keys():\n",
    "                            counts[kn][x] = v\n",
    "                        else:\n",
    "                            counts[kn][x] += v\n",
    "                        if not x in type_counts.keys():\n",
    "                            type_counts[x] = 0\n",
    "                        else:\n",
    "                            type_counts[x] += v\n",
    "                            \n",
    "    type_lst = []\n",
    "    for (x,_) in reversed(sorted(type_counts.items(), key=lambda x:x[1])):\n",
    "        if x != '-':\n",
    "            type_lst.append(x)\n",
    "       \n",
    "    data = dict(zip(set_lst, [[],[],[],[],[],[],[]]))\n",
    "    for x in type_lst+['-',]:\n",
    "        for y in counts.keys():\n",
    "            if x in counts[y]:\n",
    "                data[y].append(counts[y][x])\n",
    "            else:\n",
    "                data[y].append(0)           \n",
    "    data_df = pd.DataFrame.from_dict(data)\n",
    "    data_df['Names'] = type_lst+['-',]\n",
    "    return data_df\n",
    "    # return counts, type_counts, type_lst\n",
    "                    "
   ]
  },
  {
   "cell_type": "code",
   "execution_count": 221,
   "metadata": {},
   "outputs": [],
   "source": [
    "## Domain\n",
    "domain = {}\n",
    "for x, df in ydata.groupby(by='Source'):\n",
    "    domain[x] = df['domain'].value_counts().to_dict()\n",
    "\n",
    "domain_df = count_linages(domain)\n",
    "domain_df.to_csv('rmdup.animal.clst90_80.AMPclst95.eggnog.Domain.tab',sep='\\t',index=False)"
   ]
  },
  {
   "cell_type": "code",
   "execution_count": 222,
   "metadata": {},
   "outputs": [],
   "source": [
    "## Phyla\n",
    "phyla = {}\n",
    "for x, df in ydata.groupby(by='Source'):\n",
    "    phyla[x] = df['phyla'].value_counts().to_dict()\n",
    "\n",
    "phyla_df = count_linages(phyla)\n",
    "phyla_df.to_csv('rmdup.animal.clst90_80.AMPclst95.eggnog.Phyla.tab',sep='\\t',index=False)"
   ]
  },
  {
   "cell_type": "code",
   "execution_count": 223,
   "metadata": {},
   "outputs": [],
   "source": [
    "## class\n",
    "Class = {}\n",
    "for x, df in ydata.groupby(by='Source'):\n",
    "    Class[x] = df['class'].value_counts().to_dict()\n",
    "\n",
    "Class_df = count_linages(Class)\n",
    "Class_df.to_csv('rmdup.animal.clst90_80.AMPclst95.eggnog.Class.tab',sep='\\t',index=False)"
   ]
  },
  {
   "cell_type": "code",
   "execution_count": 224,
   "metadata": {},
   "outputs": [],
   "source": [
    "## order\n",
    "order = {}\n",
    "for x, df in ydata.groupby(by='Source'):\n",
    "    order[x] = df['order'].value_counts().to_dict()\n",
    "\n",
    "order_df = count_linages(order)\n",
    "order_df.to_csv('rmdup.animal.clst90_80.AMPclst95.eggnog.Order.tab',sep='\\t',index=False)"
   ]
  },
  {
   "cell_type": "code",
   "execution_count": 225,
   "metadata": {},
   "outputs": [],
   "source": [
    "## family\n",
    "family = {}\n",
    "for x, df in ydata.groupby(by='Source'):\n",
    "    family[x] = df['family'].value_counts().to_dict()\n",
    "\n",
    "family_df = count_linages(family)\n",
    "family_df.to_csv('rmdup.animal.clst90_80.AMPclst95.eggnog.Family.tab',sep='\\t',index=False)"
   ]
  },
  {
   "cell_type": "code",
   "execution_count": 226,
   "metadata": {},
   "outputs": [],
   "source": [
    "## genera\n",
    "genera = {}\n",
    "for x, df in ydata.groupby(by='Source'):\n",
    "    genera[x] = df['genera'].value_counts().to_dict()\n",
    "\n",
    "genera_df = count_linages(genera)\n",
    "genera_df.to_csv('rmdup.animal.clst90_80.AMPclst95.eggnog.Genera.tab',sep='\\t',index=False)"
   ]
  },
  {
   "cell_type": "code",
   "execution_count": 227,
   "metadata": {},
   "outputs": [],
   "source": [
    "## species\n",
    "species = {}\n",
    "for x, df in ydata.groupby(by='Source'):\n",
    "    species[x] = df['species'].value_counts().to_dict()\n",
    "\n",
    "species_df = count_linages(species)\n",
    "species_df.to_csv('rmdup.animal.clst90_80.AMPclst95.eggnog.Species.tab',sep='\\t',index=False)"
   ]
  },
  {
   "cell_type": "code",
   "execution_count": 3,
   "metadata": {},
   "outputs": [],
   "source": [
    "import matplotlib\n",
    "import matplotlib.pyplot as plt\n",
    "import seaborn as sns\n",
    "import pygal"
   ]
  },
  {
   "cell_type": "code",
   "execution_count": 28,
   "metadata": {},
   "outputs": [
    {
     "name": "stdout",
     "output_type": "stream",
     "text": [
      "dot_chart.add('Firmicutes', [0.6919,0.7754,0.3624,0.6208,0.5538,0.6731,0.1818])\n",
      "dot_chart.add('Bacteroidota', [0.1487,0.1024,0.0455,0.1307,0.2832,0.1713,0.1405])\n",
      "dot_chart.add('Proteobacteria', [0.0763,0.0277,0.0000,0.1136,0.0281,0.0414,0.4953])\n",
      "dot_chart.add('Actinobacteriota', [0.0418,0.0192,0.0000,0.0790,0.0187,0.0270,0.0756])\n",
      "dot_chart.add('Verrucomicrobiota', [0.0102,0.0095,0.0094,0.0120,0.0297,0.0143,0.0073])\n",
      "dot_chart.add('Other', [0.0277,0.0389,0.0761,0.0438,0.0865,0.0728,0.0995])\n",
      "dot_chart.add('Unknown', [0.0035,0.0268,0.5066,0.0000,0.0000,0.0000,0.0000])\n",
      "dot_chart.add('nan', [nan,nan,nan,nan,nan,nan,nan])\n",
      "dot_chart.add('nan', [nan,nan,nan,nan,nan,nan,nan])\n",
      "dot_chart.add('nan', [nan,nan,nan,nan,nan,nan,nan])\n"
     ]
    },
    {
     "name": "stderr",
     "output_type": "stream",
     "text": [
      "/tmp/ipykernel_3545486/3807543360.py:5: FutureWarning: Series.__getitem__ treating keys as positions is deprecated. In a future version, integer keys will always be treated as labels (consistent with DataFrame behavior). To access a value by position, use `ser.iloc[pos]`\n",
      "  (row[0],row[1],row[2],row[3],row[4],row[5],row[6],row[7]))\n"
     ]
    }
   ],
   "source": [
    "xx = pd.read_csv('Phyla_3.csv')\n",
    "for _, row in xx.iterrows():\n",
    "    yy = row.tolist()\n",
    "    print(\"dot_chart.add('%s', [%.4f,%.4f,%.4f,%.4f,%.4f,%.4f,%.4f])\" % \n",
    "          (row[0],row[1],row[2],row[3],row[4],row[5],row[6],row[7]))"
   ]
  },
  {
   "cell_type": "code",
   "execution_count": 29,
   "metadata": {},
   "outputs": [],
   "source": [
    "pltset_lst = ['CGMR', 'Hadza', 'Ancient_human_gut', 'MGnify_human_gut',\n",
    "           'Cow_rumen', 'Pig_gut', 'Fish_gut']\n",
    "dot_chart = pygal.Dot(x_label_rotation=45)\n",
    "# dot_chart.title = 'V8 benchmark results'\n",
    "dot_chart.x_labels = pltset_lst\n",
    "pltset_lst = ['CGMR', 'Hadza', 'Ancient_human_gut', 'MGnify_human_gut',\n",
    "           'Cow_rumen', 'Pig_gut', 'Fish_gut']\n",
    "dot_chart = pygal.Dot(x_label_rotation=45)\n",
    "# dot_chart.title = 'V8 benchmark results'\n",
    "dot_chart.x_labels = pltset_lst\n",
    "dot_chart.add('Firmicutes', [0.6919,0.7754,0.3624,0.6208,0.5538,0.6731,0.1818])\n",
    "dot_chart.add('Bacteroidota', [0.1487,0.1024,0.0455,0.1307,0.2832,0.1713,0.1405])\n",
    "dot_chart.add('Proteobacteria', [0.0763,0.0277,0.0000,0.1136,0.0281,0.0414,0.4953])\n",
    "dot_chart.add('Actinobacteriota', [0.0418,0.0192,0.0000,0.0790,0.0187,0.0270,0.0756])\n",
    "dot_chart.add('Verrucomicrobiota', [0.0102,0.0095,0.0094,0.0120,0.0297,0.0143,0.0073])\n",
    "dot_chart.add('Other', [0.0277,0.0389,0.0761,0.0438,0.0865,0.0728,0.0995])\n",
    "dot_chart.add('Unknown', [0.0035,0.0268,0.5066,0.0000,0.0000,0.0000,0.0000])\n",
    "dot_chart.add('Legend', [1.,0.8,0.6,0.4,0.2,0.1,0.01])\n",
    "dot_chart.render_to_file('Phyla_3.svg') "
   ]
  },
  {
   "cell_type": "code",
   "execution_count": null,
   "metadata": {},
   "outputs": [],
   "source": []
  }
 ],
 "metadata": {
  "kernelspec": {
   "display_name": "gnn",
   "language": "python",
   "name": "python3"
  },
  "language_info": {
   "codemirror_mode": {
    "name": "ipython",
    "version": 3
   },
   "file_extension": ".py",
   "mimetype": "text/x-python",
   "name": "python",
   "nbconvert_exporter": "python",
   "pygments_lexer": "ipython3",
   "version": "3.10.13"
  }
 },
 "nbformat": 4,
 "nbformat_minor": 2
}
