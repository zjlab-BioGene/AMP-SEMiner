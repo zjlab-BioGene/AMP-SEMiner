{
 "cells": [
  {
   "cell_type": "code",
   "execution_count": 1,
   "metadata": {},
   "outputs": [],
   "source": [
    "import os, re\n",
    "import pandas as pd\n",
    "import numpy as np"
   ]
  },
  {
   "cell_type": "code",
   "execution_count": 2,
   "metadata": {},
   "outputs": [],
   "source": [
    "## read blastp tables\n",
    "df = pd.concat([pd.read_csv('less30.APD.blastp', sep='\\t', header=None), \n",
    "                pd.read_csv('more30.APD.blastp', sep='\\t', header=None)], ignore_index=True)\n",
    "col_names = ['qseqid', 'sseqid', 'pident', 'length', 'mismatch', 'gapopen', 'qstart', 'qend', 'sstart', 'send', 'evalue', 'bitscore', 'qlen', 'slen']\n",
    "df.columns = col_names\n",
    "\n",
    "## calculate query_coverage\n",
    "df['qcoverage'] = (df['qend']-df['qstart']+1)/df['qlen']"
   ]
  },
  {
   "cell_type": "code",
   "execution_count": 3,
   "metadata": {},
   "outputs": [],
   "source": [
    "## remove opengaps > 0\n",
    "df = df[df.gapopen==0]"
   ]
  },
  {
   "cell_type": "code",
   "execution_count": 4,
   "metadata": {},
   "outputs": [],
   "source": [
    "## remove mismatches\n",
    "df['mis_count'] = df['mismatch'] + (df['qlen']-(df['qend']-df['qstart']+1))\n",
    "df['flag'] = [ 1 if (row.qlen<=10 and row.mis_count<=1) or (row.qlen>10 and row.mis_count<=2) else 0 for _, row in df.iterrows() ]\n",
    "df = df[df.flag==1]"
   ]
  },
  {
   "cell_type": "code",
   "execution_count": 5,
   "metadata": {},
   "outputs": [],
   "source": [
    "## remove Repeats (multi-hits on same query-target pairs)\n",
    "repeat_pairs = []\n",
    "for (qid, sid), mtx in df.groupby(by=['qseqid', 'sseqid']):\n",
    "    if mtx.shape[0] > 1:\n",
    "        repeat_pairs.append((qid, sid))\n",
    "        print('Multi-hits on %s-%s pair' % (qid, sid))\n",
    "\n",
    "if len(repeat_pairs) > 1:\n",
    "    for (qid, sid) in repeat_pairs:\n",
    "        df = df[~((df.qseqid==qid) & (df.sseqid==sid))]"
   ]
  },
  {
   "cell_type": "code",
   "execution_count": 6,
   "metadata": {},
   "outputs": [],
   "source": [
    "## output table\n",
    "df.to_csv('APD.blastp.rmrep.tsv', sep='\\t', index=False)"
   ]
  },
  {
   "cell_type": "markdown",
   "metadata": {},
   "source": [
    "## CD-HIT & dataset preparation"
   ]
  },
  {
   "cell_type": "code",
   "execution_count": 7,
   "metadata": {},
   "outputs": [],
   "source": [
    "uniprot = pd.read_csv('UniProt/cdhit-2d/all_300.APD.rmdup90.tab',sep='\\t',header=None)\n",
    "uniprot.columns = ['ID','Seq']\n",
    "uniprot_dict = dict( zip( uniprot['ID'].tolist(), uniprot['Seq'].tolist() ) )"
   ]
  },
  {
   "cell_type": "code",
   "execution_count": 8,
   "metadata": {},
   "outputs": [],
   "source": [
    "df = pd.read_csv('APD.blastp.rmrep.tsv', sep='\\t')\n",
    "df['sseqid'] = [ x.split('|')[1] for x in df['sseqid'].tolist() ]\n",
    "\n",
    "df = df[df.sseqid.isin(uniprot_dict.keys())]"
   ]
  },
  {
   "cell_type": "code",
   "execution_count": 10,
   "metadata": {},
   "outputs": [],
   "source": [
    "# del df['xx']\n",
    "del df['flag']"
   ]
  },
  {
   "cell_type": "code",
   "execution_count": 11,
   "metadata": {},
   "outputs": [],
   "source": [
    "df = df.sort_values(by=['sseqid','sstart','send'], ascending=[True,True,False])\n",
    "df.to_csv('APD.blastp.rmrep90.tsv', sep='\\t', index=False)"
   ]
  },
  {
   "cell_type": "code",
   "execution_count": 14,
   "metadata": {},
   "outputs": [],
   "source": [
    "def get_token_labels(id, mtx):\n",
    "    rmdup_mtx = pd.DataFrame(columns=mtx.columns)\n",
    "    \n",
    "    mtx = mtx.sort_values(by=['sstart','send'],ascending=[True,True])\n",
    "    slen = mtx.slen.tolist()[0]\n",
    "    a = np.zeros(slen)\n",
    "    \n",
    "    sstarts = mtx.sstart.tolist()\n",
    "    sends = mtx.send.tolist()\n",
    "    min_s, min_e = sstarts[0], sends[0]\n",
    "    rmdup_mtx.loc[len(rmdup_mtx.index)] = mtx.iloc[0]\n",
    "    \n",
    "    if len(sstarts) > 1:\n",
    "        for i in range(1, len(sstarts)):\n",
    "            if sstarts[i] > min_e:\n",
    "                rmdup_mtx.loc[len(rmdup_mtx.index)] = mtx.iloc[i]\n",
    "                for j in range(min_s-1, min_e):\n",
    "                    a[j] = 1.0\n",
    "                min_s = sstarts[i]\n",
    "                min_e = sends[i]\n",
    "            else:\n",
    "                continue\n",
    "    \n",
    "    for j in range(min_s-1, min_e):\n",
    "        a[j] = 1.0\n",
    "    \n",
    "    return rmdup_mtx, a\n",
    "                      \n",
    "\n",
    "df_rmdup = pd.DataFrame(columns=df.columns)\n",
    "dataset = pd.DataFrame(columns=['Class','ProId','Sequence'])\n",
    "for sid, mtx in df.groupby(by='sseqid'):\n",
    "    mtx_rmdup, a = get_token_labels(id, mtx)\n",
    "    df_rmdup = pd.concat([df_rmdup, mtx_rmdup], ignore_index=True)\n",
    "    np.save(os.path.join('labels', sid+'.npy'), a)\n",
    "    dataset.loc[len(dataset.index)] = [1, sid, uniprot_dict[sid]]\n",
    "    \n",
    "df_rmdup.to_csv('APD.blastp.rmrep90.rmdup.tsv',sep='\\t',index=False)\n",
    "dataset.to_csv('dataset/test.csv', sep=',',index=False)\n",
    "    "
   ]
  },
  {
   "cell_type": "code",
   "execution_count": null,
   "metadata": {},
   "outputs": [],
   "source": []
  }
 ],
 "metadata": {
  "kernelspec": {
   "display_name": "amp",
   "language": "python",
   "name": "python3"
  },
  "language_info": {
   "codemirror_mode": {
    "name": "ipython",
    "version": 3
   },
   "file_extension": ".py",
   "mimetype": "text/x-python",
   "name": "python",
   "nbconvert_exporter": "python",
   "pygments_lexer": "ipython3",
   "version": "3.10.14"
  }
 },
 "nbformat": 4,
 "nbformat_minor": 2
}
